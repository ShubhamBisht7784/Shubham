{
 "cells": [
  {
   "cell_type": "code",
   "execution_count": 31,
   "id": "eaf948f2-9147-449d-a00e-66256271d757",
   "metadata": {},
   "outputs": [],
   "source": [
    "import numpy as np\n",
    "import pandas as pd"
   ]
  },
  {
   "cell_type": "code",
   "execution_count": 3,
   "id": "ca89d4d8-4f1f-46cc-9193-fc9660ba7a3e",
   "metadata": {},
   "outputs": [],
   "source": [
    "df = pd.read_csv('spam.csv', encoding='ISO-8859-1')"
   ]
  },
  {
   "cell_type": "code",
   "execution_count": 7,
   "id": "452cd315-f2dd-4cad-b4a7-f7dc9a119c84",
   "metadata": {},
   "outputs": [
    {
     "ename": "NameError",
     "evalue": "name 'df' is not defined",
     "output_type": "error",
     "traceback": [
      "\u001b[1;31m---------------------------------------------------------------------------\u001b[0m",
      "\u001b[1;31mNameError\u001b[0m                                 Traceback (most recent call last)",
      "Cell \u001b[1;32mIn[7], line 1\u001b[0m\n\u001b[1;32m----> 1\u001b[0m df\u001b[38;5;241m.\u001b[39minfo()\n",
      "\u001b[1;31mNameError\u001b[0m: name 'df' is not defined"
     ]
    }
   ],
   "source": [
    "df.info()"
   ]
  },
  {
   "cell_type": "code",
   "execution_count": 9,
   "id": "f724efdb-9775-4928-85ae-8d5b72e4316a",
   "metadata": {},
   "outputs": [
    {
     "ename": "NameError",
     "evalue": "name 'df' is not defined",
     "output_type": "error",
     "traceback": [
      "\u001b[1;31m---------------------------------------------------------------------------\u001b[0m",
      "\u001b[1;31mNameError\u001b[0m                                 Traceback (most recent call last)",
      "Cell \u001b[1;32mIn[9], line 3\u001b[0m\n\u001b[0;32m      1\u001b[0m \u001b[38;5;66;03m# drop last 3 columns\u001b[39;00m\n\u001b[1;32m----> 3\u001b[0m df\u001b[38;5;241m.\u001b[39mdrop(columns\u001b[38;5;241m=\u001b[39m[\u001b[38;5;124m'\u001b[39m\u001b[38;5;124mUnnamed: 2\u001b[39m\u001b[38;5;124m'\u001b[39m,\u001b[38;5;124m'\u001b[39m\u001b[38;5;124mUnnamed: 3\u001b[39m\u001b[38;5;124m'\u001b[39m,\u001b[38;5;124m'\u001b[39m\u001b[38;5;124mUnnamed: 4\u001b[39m\u001b[38;5;124m'\u001b[39m],inplace \u001b[38;5;241m=\u001b[39m \u001b[38;5;28;01mTrue\u001b[39;00m)\n",
      "\u001b[1;31mNameError\u001b[0m: name 'df' is not defined"
     ]
    }
   ],
   "source": [
    "# drop last 3 columns\n",
    "\n",
    "df.drop(columns=['Unnamed: 2','Unnamed: 3','Unnamed: 4'],inplace = True)"
   ]
  },
  {
   "cell_type": "code",
   "execution_count": 5,
   "id": "9aafc0fc-dd96-403d-9f28-5d4c72c13bcb",
   "metadata": {},
   "outputs": [
    {
     "ename": "NameError",
     "evalue": "name 'df' is not defined",
     "output_type": "error",
     "traceback": [
      "\u001b[1;31m---------------------------------------------------------------------------\u001b[0m",
      "\u001b[1;31mNameError\u001b[0m                                 Traceback (most recent call last)",
      "Cell \u001b[1;32mIn[5], line 1\u001b[0m\n\u001b[1;32m----> 1\u001b[0m df\u001b[38;5;241m.\u001b[39msample(\u001b[38;5;241m5\u001b[39m)\n",
      "\u001b[1;31mNameError\u001b[0m: name 'df' is not defined"
     ]
    }
   ],
   "source": [
    "df.sample(5)"
   ]
  },
  {
   "cell_type": "code",
   "execution_count": 13,
   "id": "fd83881e-2e96-4d86-bac3-ea7a903666dd",
   "metadata": {},
   "outputs": [
    {
     "data": {
      "text/html": [
       "<div>\n",
       "<style scoped>\n",
       "    .dataframe tbody tr th:only-of-type {\n",
       "        vertical-align: middle;\n",
       "    }\n",
       "\n",
       "    .dataframe tbody tr th {\n",
       "        vertical-align: top;\n",
       "    }\n",
       "\n",
       "    .dataframe thead th {\n",
       "        text-align: right;\n",
       "    }\n",
       "</style>\n",
       "<table border=\"1\" class=\"dataframe\">\n",
       "  <thead>\n",
       "    <tr style=\"text-align: right;\">\n",
       "      <th></th>\n",
       "      <th>target</th>\n",
       "      <th>text</th>\n",
       "    </tr>\n",
       "  </thead>\n",
       "  <tbody>\n",
       "    <tr>\n",
       "      <th>5254</th>\n",
       "      <td>ham</td>\n",
       "      <td>I didnt get anything da</td>\n",
       "    </tr>\n",
       "    <tr>\n",
       "      <th>3046</th>\n",
       "      <td>ham</td>\n",
       "      <td>Ok. Not much to do here though. H&amp;M Friday, ca...</td>\n",
       "    </tr>\n",
       "    <tr>\n",
       "      <th>1842</th>\n",
       "      <td>ham</td>\n",
       "      <td>\\Are you comingdown later?\\\"\"</td>\n",
       "    </tr>\n",
       "    <tr>\n",
       "      <th>3550</th>\n",
       "      <td>ham</td>\n",
       "      <td>I love you both too :-)</td>\n",
       "    </tr>\n",
       "    <tr>\n",
       "      <th>2131</th>\n",
       "      <td>ham</td>\n",
       "      <td>S...from the training manual it show there is ...</td>\n",
       "    </tr>\n",
       "  </tbody>\n",
       "</table>\n",
       "</div>"
      ],
      "text/plain": [
       "     target                                               text\n",
       "5254    ham                            I didnt get anything da\n",
       "3046    ham  Ok. Not much to do here though. H&M Friday, ca...\n",
       "1842    ham                      \\Are you comingdown later?\\\"\"\n",
       "3550    ham                            I love you both too :-)\n",
       "2131    ham  S...from the training manual it show there is ..."
      ]
     },
     "execution_count": 13,
     "metadata": {},
     "output_type": "execute_result"
    }
   ],
   "source": [
    "# renaming the columns \n",
    "\n",
    "df.rename(columns={'v1':'target','v2':'text'},inplace=True)\n",
    "df.sample(5)"
   ]
  },
  {
   "cell_type": "code",
   "execution_count": 15,
   "id": "3122997d-95a6-4e84-b751-d8f63569f3ae",
   "metadata": {},
   "outputs": [],
   "source": [
    "from sklearn.preprocessing import LabelEncoder\n",
    "encoder = LabelEncoder()"
   ]
  },
  {
   "cell_type": "code",
   "execution_count": 17,
   "id": "d359fc8d-d9f9-47ad-8b7a-a5178bf3456a",
   "metadata": {},
   "outputs": [],
   "source": [
    "df['target'] =  encoder.fit_transform(df['target'])"
   ]
  },
  {
   "cell_type": "code",
   "execution_count": 19,
   "id": "15e82f8b-43c4-4fff-b3fd-4d16600c9a4f",
   "metadata": {},
   "outputs": [
    {
     "data": {
      "text/html": [
       "<div>\n",
       "<style scoped>\n",
       "    .dataframe tbody tr th:only-of-type {\n",
       "        vertical-align: middle;\n",
       "    }\n",
       "\n",
       "    .dataframe tbody tr th {\n",
       "        vertical-align: top;\n",
       "    }\n",
       "\n",
       "    .dataframe thead th {\n",
       "        text-align: right;\n",
       "    }\n",
       "</style>\n",
       "<table border=\"1\" class=\"dataframe\">\n",
       "  <thead>\n",
       "    <tr style=\"text-align: right;\">\n",
       "      <th></th>\n",
       "      <th>target</th>\n",
       "      <th>text</th>\n",
       "    </tr>\n",
       "  </thead>\n",
       "  <tbody>\n",
       "    <tr>\n",
       "      <th>0</th>\n",
       "      <td>0</td>\n",
       "      <td>Go until jurong point, crazy.. Available only ...</td>\n",
       "    </tr>\n",
       "    <tr>\n",
       "      <th>1</th>\n",
       "      <td>0</td>\n",
       "      <td>Ok lar... Joking wif u oni...</td>\n",
       "    </tr>\n",
       "    <tr>\n",
       "      <th>2</th>\n",
       "      <td>1</td>\n",
       "      <td>Free entry in 2 a wkly comp to win FA Cup fina...</td>\n",
       "    </tr>\n",
       "    <tr>\n",
       "      <th>3</th>\n",
       "      <td>0</td>\n",
       "      <td>U dun say so early hor... U c already then say...</td>\n",
       "    </tr>\n",
       "    <tr>\n",
       "      <th>4</th>\n",
       "      <td>0</td>\n",
       "      <td>Nah I don't think he goes to usf, he lives aro...</td>\n",
       "    </tr>\n",
       "  </tbody>\n",
       "</table>\n",
       "</div>"
      ],
      "text/plain": [
       "   target                                               text\n",
       "0       0  Go until jurong point, crazy.. Available only ...\n",
       "1       0                      Ok lar... Joking wif u oni...\n",
       "2       1  Free entry in 2 a wkly comp to win FA Cup fina...\n",
       "3       0  U dun say so early hor... U c already then say...\n",
       "4       0  Nah I don't think he goes to usf, he lives aro..."
      ]
     },
     "execution_count": 19,
     "metadata": {},
     "output_type": "execute_result"
    }
   ],
   "source": [
    "df.head()"
   ]
  },
  {
   "cell_type": "code",
   "execution_count": 21,
   "id": "e8046b88-86ba-43db-8989-40db4373c23d",
   "metadata": {},
   "outputs": [
    {
     "data": {
      "text/plain": [
       "target    0\n",
       "text      0\n",
       "dtype: int64"
      ]
     },
     "execution_count": 21,
     "metadata": {},
     "output_type": "execute_result"
    }
   ],
   "source": [
    "# missing value\n",
    "df.isnull().sum()"
   ]
  },
  {
   "cell_type": "code",
   "execution_count": 23,
   "id": "d8b13d89-2e7e-4424-a097-393e5f5cb331",
   "metadata": {},
   "outputs": [],
   "source": [
    "df = df.drop_duplicates(keep = 'first')"
   ]
  },
  {
   "cell_type": "code",
   "execution_count": 25,
   "id": "00c56d45-e82a-476e-9379-a1e09ce2da08",
   "metadata": {},
   "outputs": [
    {
     "data": {
      "text/plain": [
       "0"
      ]
     },
     "execution_count": 25,
     "metadata": {},
     "output_type": "execute_result"
    }
   ],
   "source": [
    "df.duplicated().sum()"
   ]
  },
  {
   "cell_type": "code",
   "execution_count": 27,
   "id": "1e866f3b-6ea3-4542-b3be-f5a5fc168c99",
   "metadata": {},
   "outputs": [
    {
     "data": {
      "text/plain": [
       "(5169, 2)"
      ]
     },
     "execution_count": 27,
     "metadata": {},
     "output_type": "execute_result"
    }
   ],
   "source": [
    "df.shape"
   ]
  },
  {
   "cell_type": "code",
   "execution_count": 29,
   "id": "518a4b36-3e74-4a3f-b7da-0d474127b7c3",
   "metadata": {},
   "outputs": [
    {
     "data": {
      "text/html": [
       "<div>\n",
       "<style scoped>\n",
       "    .dataframe tbody tr th:only-of-type {\n",
       "        vertical-align: middle;\n",
       "    }\n",
       "\n",
       "    .dataframe tbody tr th {\n",
       "        vertical-align: top;\n",
       "    }\n",
       "\n",
       "    .dataframe thead th {\n",
       "        text-align: right;\n",
       "    }\n",
       "</style>\n",
       "<table border=\"1\" class=\"dataframe\">\n",
       "  <thead>\n",
       "    <tr style=\"text-align: right;\">\n",
       "      <th></th>\n",
       "      <th>target</th>\n",
       "      <th>text</th>\n",
       "    </tr>\n",
       "  </thead>\n",
       "  <tbody>\n",
       "    <tr>\n",
       "      <th>0</th>\n",
       "      <td>0</td>\n",
       "      <td>Go until jurong point, crazy.. Available only ...</td>\n",
       "    </tr>\n",
       "    <tr>\n",
       "      <th>1</th>\n",
       "      <td>0</td>\n",
       "      <td>Ok lar... Joking wif u oni...</td>\n",
       "    </tr>\n",
       "    <tr>\n",
       "      <th>2</th>\n",
       "      <td>1</td>\n",
       "      <td>Free entry in 2 a wkly comp to win FA Cup fina...</td>\n",
       "    </tr>\n",
       "    <tr>\n",
       "      <th>3</th>\n",
       "      <td>0</td>\n",
       "      <td>U dun say so early hor... U c already then say...</td>\n",
       "    </tr>\n",
       "    <tr>\n",
       "      <th>4</th>\n",
       "      <td>0</td>\n",
       "      <td>Nah I don't think he goes to usf, he lives aro...</td>\n",
       "    </tr>\n",
       "  </tbody>\n",
       "</table>\n",
       "</div>"
      ],
      "text/plain": [
       "   target                                               text\n",
       "0       0  Go until jurong point, crazy.. Available only ...\n",
       "1       0                      Ok lar... Joking wif u oni...\n",
       "2       1  Free entry in 2 a wkly comp to win FA Cup fina...\n",
       "3       0  U dun say so early hor... U c already then say...\n",
       "4       0  Nah I don't think he goes to usf, he lives aro..."
      ]
     },
     "execution_count": 29,
     "metadata": {},
     "output_type": "execute_result"
    }
   ],
   "source": [
    "            # EDA -> EXPORATIARY DATA ANALYSIS\n",
    "\n",
    "df.head()"
   ]
  },
  {
   "cell_type": "code",
   "execution_count": 31,
   "id": "8ddecdd7-e5ec-4d0c-ac99-88eab06b6bd1",
   "metadata": {},
   "outputs": [
    {
     "data": {
      "text/plain": [
       "target\n",
       "0    4516\n",
       "1     653\n",
       "Name: count, dtype: int64"
      ]
     },
     "execution_count": 31,
     "metadata": {},
     "output_type": "execute_result"
    }
   ],
   "source": [
    "df['target'].value_counts()"
   ]
  },
  {
   "cell_type": "code",
   "execution_count": 33,
   "id": "f0583422-f0ba-41db-ae30-6e693df2be4d",
   "metadata": {},
   "outputs": [
    {
     "data": {
      "image/png": "[encoded data removed]",
      "text/plain": [
       "<Figure size 640x480 with 1 Axes>"
      ]
     },
     "metadata": {},
     "output_type": "display_data"
    }
   ],
   "source": [
    "import matplotlib.pyplot as plt\n",
    "plt.pie(df['target'].value_counts(), labels = ['ham','spam'],autopct = \"%0.2f\")\n",
    "plt.show()"
   ]
  },
  {
   "cell_type": "code",
   "execution_count": 35,
   "id": "be628dff-3d8c-4325-b2ca-1865ecb9f177",
   "metadata": {},
   "outputs": [
    {
     "name": "stdout",
     "output_type": "stream",
     "text": [
      "Requirement already satisfied: nltk in c:\\users\\acer\\anaconda3\\lib\\site-packages (3.8.1)\n",
      "Requirement already satisfied: click in c:\\users\\acer\\anaconda3\\lib\\site-packages (from nltk) (8.1.7)\n",
      "Requirement already satisfied: joblib in c:\\users\\acer\\anaconda3\\lib\\site-packages (from nltk) (1.4.2)\n",
      "Requirement already satisfied: regex>=2021.8.3 in c:\\users\\acer\\anaconda3\\lib\\site-packages (from nltk) (2023.10.3)\n",
      "Requirement already satisfied: tqdm in c:\\users\\acer\\anaconda3\\lib\\site-packages (from nltk) (4.66.4)\n",
      "Requirement already satisfied: colorama in c:\\users\\acer\\anaconda3\\lib\\site-packages (from click->nltk) (0.4.6)\n"
     ]
    }
   ],
   "source": [
    "!pip install nltk"
   ]
  },
  {
   "cell_type": "code",
   "execution_count": 37,
   "id": "979f2e32-4859-4cc8-bcaf-c97c544e961c",
   "metadata": {},
   "outputs": [],
   "source": [
    "import nltk as nlt"
   ]
  },
  {
   "cell_type": "code",
   "execution_count": 39,
   "id": "4beecebc-1ec8-4a62-9541-0d618c37971c",
   "metadata": {},
   "outputs": [
    {
     "name": "stderr",
     "output_type": "stream",
     "text": [
      "[nltk_data] Downloading package punkt to\n",
      "[nltk_data]     C:\\Users\\acer\\AppData\\Roaming\\nltk_data...\n",
      "[nltk_data]   Package punkt is already up-to-date!\n"
     ]
    },
    {
     "data": {
      "text/plain": [
       "True"
      ]
     },
     "execution_count": 39,
     "metadata": {},
     "output_type": "execute_result"
    }
   ],
   "source": [
    "nlt.download('punkt')"
   ]
  },
  {
   "cell_type": "code",
   "execution_count": 41,
   "id": "c83b4858-aa09-45ba-a397-f69894778626",
   "metadata": {},
   "outputs": [],
   "source": [
    "df['num_characters'] = df['text'].apply(len)"
   ]
  },
  {
   "cell_type": "code",
   "execution_count": 43,
   "id": "b7f333e1-08e9-49c7-9910-867f9705d4ed",
   "metadata": {},
   "outputs": [
    {
     "data": {
      "text/html": [
       "<div>\n",
       "<style scoped>\n",
       "    .dataframe tbody tr th:only-of-type {\n",
       "        vertical-align: middle;\n",
       "    }\n",
       "\n",
       "    .dataframe tbody tr th {\n",
       "        vertical-align: top;\n",
       "    }\n",
       "\n",
       "    .dataframe thead th {\n",
       "        text-align: right;\n",
       "    }\n",
       "</style>\n",
       "<table border=\"1\" class=\"dataframe\">\n",
       "  <thead>\n",
       "    <tr style=\"text-align: right;\">\n",
       "      <th></th>\n",
       "      <th>target</th>\n",
       "      <th>text</th>\n",
       "      <th>num_characters</th>\n",
       "    </tr>\n",
       "  </thead>\n",
       "  <tbody>\n",
       "    <tr>\n",
       "      <th>0</th>\n",
       "      <td>0</td>\n",
       "      <td>Go until jurong point, crazy.. Available only ...</td>\n",
       "      <td>111</td>\n",
       "    </tr>\n",
       "    <tr>\n",
       "      <th>1</th>\n",
       "      <td>0</td>\n",
       "      <td>Ok lar... Joking wif u oni...</td>\n",
       "      <td>29</td>\n",
       "    </tr>\n",
       "    <tr>\n",
       "      <th>2</th>\n",
       "      <td>1</td>\n",
       "      <td>Free entry in 2 a wkly comp to win FA Cup fina...</td>\n",
       "      <td>155</td>\n",
       "    </tr>\n",
       "    <tr>\n",
       "      <th>3</th>\n",
       "      <td>0</td>\n",
       "      <td>U dun say so early hor... U c already then say...</td>\n",
       "      <td>49</td>\n",
       "    </tr>\n",
       "    <tr>\n",
       "      <th>4</th>\n",
       "      <td>0</td>\n",
       "      <td>Nah I don't think he goes to usf, he lives aro...</td>\n",
       "      <td>61</td>\n",
       "    </tr>\n",
       "  </tbody>\n",
       "</table>\n",
       "</div>"
      ],
      "text/plain": [
       "   target                                               text  num_characters\n",
       "0       0  Go until jurong point, crazy.. Available only ...             111\n",
       "1       0                      Ok lar... Joking wif u oni...              29\n",
       "2       1  Free entry in 2 a wkly comp to win FA Cup fina...             155\n",
       "3       0  U dun say so early hor... U c already then say...              49\n",
       "4       0  Nah I don't think he goes to usf, he lives aro...              61"
      ]
     },
     "execution_count": 43,
     "metadata": {},
     "output_type": "execute_result"
    }
   ],
   "source": [
    "df.head()"
   ]
  },
  {
   "cell_type": "code",
   "execution_count": 51,
   "id": "5faf17a9-fbaf-4ff6-8669-96bff79220d6",
   "metadata": {},
   "outputs": [],
   "source": [
    "# num of words\n",
    "\n",
    "df['num_words'] = df['text'].apply(lambda x:len(nlt.word_tokenize(x)))"
   ]
  },
  {
   "cell_type": "code",
   "execution_count": 53,
   "id": "e3a2d1b3-a00b-48b6-b541-710501ee8805",
   "metadata": {},
   "outputs": [
    {
     "data": {
      "text/html": [
       "<div>\n",
       "<style scoped>\n",
       "    .dataframe tbody tr th:only-of-type {\n",
       "        vertical-align: middle;\n",
       "    }\n",
       "\n",
       "    .dataframe tbody tr th {\n",
       "        vertical-align: top;\n",
       "    }\n",
       "\n",
       "    .dataframe thead th {\n",
       "        text-align: right;\n",
       "    }\n",
       "</style>\n",
       "<table border=\"1\" class=\"dataframe\">\n",
       "  <thead>\n",
       "    <tr style=\"text-align: right;\">\n",
       "      <th></th>\n",
       "      <th>target</th>\n",
       "      <th>text</th>\n",
       "      <th>num_characters</th>\n",
       "      <th>num_words</th>\n",
       "    </tr>\n",
       "  </thead>\n",
       "  <tbody>\n",
       "    <tr>\n",
       "      <th>0</th>\n",
       "      <td>0</td>\n",
       "      <td>Go until jurong point, crazy.. Available only ...</td>\n",
       "      <td>111</td>\n",
       "      <td>24</td>\n",
       "    </tr>\n",
       "    <tr>\n",
       "      <th>1</th>\n",
       "      <td>0</td>\n",
       "      <td>Ok lar... Joking wif u oni...</td>\n",
       "      <td>29</td>\n",
       "      <td>8</td>\n",
       "    </tr>\n",
       "    <tr>\n",
       "      <th>2</th>\n",
       "      <td>1</td>\n",
       "      <td>Free entry in 2 a wkly comp to win FA Cup fina...</td>\n",
       "      <td>155</td>\n",
       "      <td>37</td>\n",
       "    </tr>\n",
       "    <tr>\n",
       "      <th>3</th>\n",
       "      <td>0</td>\n",
       "      <td>U dun say so early hor... U c already then say...</td>\n",
       "      <td>49</td>\n",
       "      <td>13</td>\n",
       "    </tr>\n",
       "    <tr>\n",
       "      <th>4</th>\n",
       "      <td>0</td>\n",
       "      <td>Nah I don't think he goes to usf, he lives aro...</td>\n",
       "      <td>61</td>\n",
       "      <td>15</td>\n",
       "    </tr>\n",
       "  </tbody>\n",
       "</table>\n",
       "</div>"
      ],
      "text/plain": [
       "   target                                               text  num_characters  \\\n",
       "0       0  Go until jurong point, crazy.. Available only ...             111   \n",
       "1       0                      Ok lar... Joking wif u oni...              29   \n",
       "2       1  Free entry in 2 a wkly comp to win FA Cup fina...             155   \n",
       "3       0  U dun say so early hor... U c already then say...              49   \n",
       "4       0  Nah I don't think he goes to usf, he lives aro...              61   \n",
       "\n",
       "   num_words  \n",
       "0         24  \n",
       "1          8  \n",
       "2         37  \n",
       "3         13  \n",
       "4         15  "
      ]
     },
     "execution_count": 53,
     "metadata": {},
     "output_type": "execute_result"
    }
   ],
   "source": [
    "df.head()"
   ]
  },
  {
   "cell_type": "code",
   "execution_count": 55,
   "id": "2e63162c-e004-4043-b855-cc89acf4c094",
   "metadata": {},
   "outputs": [],
   "source": [
    " df['num_sentences'] = df['text'].apply(lambda x:len(nlt.sent_tokenize(x)))"
   ]
  },
  {
   "cell_type": "code",
   "execution_count": 57,
   "id": "81a606a7-b8ea-40ba-803e-ad558bfdac22",
   "metadata": {},
   "outputs": [
    {
     "data": {
      "text/html": [
       "<div>\n",
       "<style scoped>\n",
       "    .dataframe tbody tr th:only-of-type {\n",
       "        vertical-align: middle;\n",
       "    }\n",
       "\n",
       "    .dataframe tbody tr th {\n",
       "        vertical-align: top;\n",
       "    }\n",
       "\n",
       "    .dataframe thead th {\n",
       "        text-align: right;\n",
       "    }\n",
       "</style>\n",
       "<table border=\"1\" class=\"dataframe\">\n",
       "  <thead>\n",
       "    <tr style=\"text-align: right;\">\n",
       "      <th></th>\n",
       "      <th>target</th>\n",
       "      <th>text</th>\n",
       "      <th>num_characters</th>\n",
       "      <th>num_words</th>\n",
       "      <th>num_sentences</th>\n",
       "    </tr>\n",
       "  </thead>\n",
       "  <tbody>\n",
       "    <tr>\n",
       "      <th>0</th>\n",
       "      <td>0</td>\n",
       "      <td>Go until jurong point, crazy.. Available only ...</td>\n",
       "      <td>111</td>\n",
       "      <td>24</td>\n",
       "      <td>2</td>\n",
       "    </tr>\n",
       "    <tr>\n",
       "      <th>1</th>\n",
       "      <td>0</td>\n",
       "      <td>Ok lar... Joking wif u oni...</td>\n",
       "      <td>29</td>\n",
       "      <td>8</td>\n",
       "      <td>2</td>\n",
       "    </tr>\n",
       "    <tr>\n",
       "      <th>2</th>\n",
       "      <td>1</td>\n",
       "      <td>Free entry in 2 a wkly comp to win FA Cup fina...</td>\n",
       "      <td>155</td>\n",
       "      <td>37</td>\n",
       "      <td>2</td>\n",
       "    </tr>\n",
       "    <tr>\n",
       "      <th>3</th>\n",
       "      <td>0</td>\n",
       "      <td>U dun say so early hor... U c already then say...</td>\n",
       "      <td>49</td>\n",
       "      <td>13</td>\n",
       "      <td>1</td>\n",
       "    </tr>\n",
       "    <tr>\n",
       "      <th>4</th>\n",
       "      <td>0</td>\n",
       "      <td>Nah I don't think he goes to usf, he lives aro...</td>\n",
       "      <td>61</td>\n",
       "      <td>15</td>\n",
       "      <td>1</td>\n",
       "    </tr>\n",
       "  </tbody>\n",
       "</table>\n",
       "</div>"
      ],
      "text/plain": [
       "   target                                               text  num_characters  \\\n",
       "0       0  Go until jurong point, crazy.. Available only ...             111   \n",
       "1       0                      Ok lar... Joking wif u oni...              29   \n",
       "2       1  Free entry in 2 a wkly comp to win FA Cup fina...             155   \n",
       "3       0  U dun say so early hor... U c already then say...              49   \n",
       "4       0  Nah I don't think he goes to usf, he lives aro...              61   \n",
       "\n",
       "   num_words  num_sentences  \n",
       "0         24              2  \n",
       "1          8              2  \n",
       "2         37              2  \n",
       "3         13              1  \n",
       "4         15              1  "
      ]
     },
     "execution_count": 57,
     "metadata": {},
     "output_type": "execute_result"
    }
   ],
   "source": [
    "df.head()"
   ]
  },
  {
   "cell_type": "code",
   "execution_count": 59,
   "id": "75664ca0-4d75-40e7-88f9-09423433cfbb",
   "metadata": {},
   "outputs": [
    {
     "data": {
      "text/html": [
       "<div>\n",
       "<style scoped>\n",
       "    .dataframe tbody tr th:only-of-type {\n",
       "        vertical-align: middle;\n",
       "    }\n",
       "\n",
       "    .dataframe tbody tr th {\n",
       "        vertical-align: top;\n",
       "    }\n",
       "\n",
       "    .dataframe thead th {\n",
       "        text-align: right;\n",
       "    }\n",
       "</style>\n",
       "<table border=\"1\" class=\"dataframe\">\n",
       "  <thead>\n",
       "    <tr style=\"text-align: right;\">\n",
       "      <th></th>\n",
       "      <th>num_characters</th>\n",
       "      <th>num_words</th>\n",
       "      <th>num_sentences</th>\n",
       "    </tr>\n",
       "  </thead>\n",
       "  <tbody>\n",
       "    <tr>\n",
       "      <th>count</th>\n",
       "      <td>5169.000000</td>\n",
       "      <td>5169.000000</td>\n",
       "      <td>5169.000000</td>\n",
       "    </tr>\n",
       "    <tr>\n",
       "      <th>mean</th>\n",
       "      <td>78.977945</td>\n",
       "      <td>18.455794</td>\n",
       "      <td>1.965564</td>\n",
       "    </tr>\n",
       "    <tr>\n",
       "      <th>std</th>\n",
       "      <td>58.236293</td>\n",
       "      <td>13.324758</td>\n",
       "      <td>1.448541</td>\n",
       "    </tr>\n",
       "    <tr>\n",
       "      <th>min</th>\n",
       "      <td>2.000000</td>\n",
       "      <td>1.000000</td>\n",
       "      <td>1.000000</td>\n",
       "    </tr>\n",
       "    <tr>\n",
       "      <th>25%</th>\n",
       "      <td>36.000000</td>\n",
       "      <td>9.000000</td>\n",
       "      <td>1.000000</td>\n",
       "    </tr>\n",
       "    <tr>\n",
       "      <th>50%</th>\n",
       "      <td>60.000000</td>\n",
       "      <td>15.000000</td>\n",
       "      <td>1.000000</td>\n",
       "    </tr>\n",
       "    <tr>\n",
       "      <th>75%</th>\n",
       "      <td>117.000000</td>\n",
       "      <td>26.000000</td>\n",
       "      <td>2.000000</td>\n",
       "    </tr>\n",
       "    <tr>\n",
       "      <th>max</th>\n",
       "      <td>910.000000</td>\n",
       "      <td>220.000000</td>\n",
       "      <td>38.000000</td>\n",
       "    </tr>\n",
       "  </tbody>\n",
       "</table>\n",
       "</div>"
      ],
      "text/plain": [
       "       num_characters    num_words  num_sentences\n",
       "count     5169.000000  5169.000000    5169.000000\n",
       "mean        78.977945    18.455794       1.965564\n",
       "std         58.236293    13.324758       1.448541\n",
       "min          2.000000     1.000000       1.000000\n",
       "25%         36.000000     9.000000       1.000000\n",
       "50%         60.000000    15.000000       1.000000\n",
       "75%        117.000000    26.000000       2.000000\n",
       "max        910.000000   220.000000      38.000000"
      ]
     },
     "execution_count": 59,
     "metadata": {},
     "output_type": "execute_result"
    }
   ],
   "source": [
    "df[['num_characters','num_words','num_sentences']].describe()"
   ]
  },
  {
   "cell_type": "code",
   "execution_count": 61,
   "id": "616f4034-280d-4183-923f-9369c0b7a4b4",
   "metadata": {},
   "outputs": [
    {
     "data": {
      "text/html": [
       "<div>\n",
       "<style scoped>\n",
       "    .dataframe tbody tr th:only-of-type {\n",
       "        vertical-align: middle;\n",
       "    }\n",
       "\n",
       "    .dataframe tbody tr th {\n",
       "        vertical-align: top;\n",
       "    }\n",
       "\n",
       "    .dataframe thead th {\n",
       "        text-align: right;\n",
       "    }\n",
       "</style>\n",
       "<table border=\"1\" class=\"dataframe\">\n",
       "  <thead>\n",
       "    <tr style=\"text-align: right;\">\n",
       "      <th></th>\n",
       "      <th>num_characters</th>\n",
       "      <th>num_words</th>\n",
       "      <th>num_sentences</th>\n",
       "    </tr>\n",
       "  </thead>\n",
       "  <tbody>\n",
       "    <tr>\n",
       "      <th>count</th>\n",
       "      <td>4516.000000</td>\n",
       "      <td>4516.000000</td>\n",
       "      <td>4516.000000</td>\n",
       "    </tr>\n",
       "    <tr>\n",
       "      <th>mean</th>\n",
       "      <td>70.459256</td>\n",
       "      <td>17.123782</td>\n",
       "      <td>1.820195</td>\n",
       "    </tr>\n",
       "    <tr>\n",
       "      <th>std</th>\n",
       "      <td>56.358207</td>\n",
       "      <td>13.493970</td>\n",
       "      <td>1.383657</td>\n",
       "    </tr>\n",
       "    <tr>\n",
       "      <th>min</th>\n",
       "      <td>2.000000</td>\n",
       "      <td>1.000000</td>\n",
       "      <td>1.000000</td>\n",
       "    </tr>\n",
       "    <tr>\n",
       "      <th>25%</th>\n",
       "      <td>34.000000</td>\n",
       "      <td>8.000000</td>\n",
       "      <td>1.000000</td>\n",
       "    </tr>\n",
       "    <tr>\n",
       "      <th>50%</th>\n",
       "      <td>52.000000</td>\n",
       "      <td>13.000000</td>\n",
       "      <td>1.000000</td>\n",
       "    </tr>\n",
       "    <tr>\n",
       "      <th>75%</th>\n",
       "      <td>90.000000</td>\n",
       "      <td>22.000000</td>\n",
       "      <td>2.000000</td>\n",
       "    </tr>\n",
       "    <tr>\n",
       "      <th>max</th>\n",
       "      <td>910.000000</td>\n",
       "      <td>220.000000</td>\n",
       "      <td>38.000000</td>\n",
       "    </tr>\n",
       "  </tbody>\n",
       "</table>\n",
       "</div>"
      ],
      "text/plain": [
       "       num_characters    num_words  num_sentences\n",
       "count     4516.000000  4516.000000    4516.000000\n",
       "mean        70.459256    17.123782       1.820195\n",
       "std         56.358207    13.493970       1.383657\n",
       "min          2.000000     1.000000       1.000000\n",
       "25%         34.000000     8.000000       1.000000\n",
       "50%         52.000000    13.000000       1.000000\n",
       "75%         90.000000    22.000000       2.000000\n",
       "max        910.000000   220.000000      38.000000"
      ]
     },
     "execution_count": 61,
     "metadata": {},
     "output_type": "execute_result"
    }
   ],
   "source": [
    "# HAM\n",
    "df[df['target'] == 0][['num_characters','num_words','num_sentences']].describe()"
   ]
  },
  {
   "cell_type": "code",
   "execution_count": 63,
   "id": "ae6d3935-bc45-4aa6-828d-8a5c3a8ed5da",
   "metadata": {},
   "outputs": [
    {
     "data": {
      "text/html": [
       "<div>\n",
       "<style scoped>\n",
       "    .dataframe tbody tr th:only-of-type {\n",
       "        vertical-align: middle;\n",
       "    }\n",
       "\n",
       "    .dataframe tbody tr th {\n",
       "        vertical-align: top;\n",
       "    }\n",
       "\n",
       "    .dataframe thead th {\n",
       "        text-align: right;\n",
       "    }\n",
       "</style>\n",
       "<table border=\"1\" class=\"dataframe\">\n",
       "  <thead>\n",
       "    <tr style=\"text-align: right;\">\n",
       "      <th></th>\n",
       "      <th>num_characters</th>\n",
       "      <th>num_words</th>\n",
       "      <th>num_sentences</th>\n",
       "    </tr>\n",
       "  </thead>\n",
       "  <tbody>\n",
       "    <tr>\n",
       "      <th>count</th>\n",
       "      <td>653.000000</td>\n",
       "      <td>653.000000</td>\n",
       "      <td>653.000000</td>\n",
       "    </tr>\n",
       "    <tr>\n",
       "      <th>mean</th>\n",
       "      <td>137.891271</td>\n",
       "      <td>27.667688</td>\n",
       "      <td>2.970904</td>\n",
       "    </tr>\n",
       "    <tr>\n",
       "      <th>std</th>\n",
       "      <td>30.137753</td>\n",
       "      <td>7.008418</td>\n",
       "      <td>1.488425</td>\n",
       "    </tr>\n",
       "    <tr>\n",
       "      <th>min</th>\n",
       "      <td>13.000000</td>\n",
       "      <td>2.000000</td>\n",
       "      <td>1.000000</td>\n",
       "    </tr>\n",
       "    <tr>\n",
       "      <th>25%</th>\n",
       "      <td>132.000000</td>\n",
       "      <td>25.000000</td>\n",
       "      <td>2.000000</td>\n",
       "    </tr>\n",
       "    <tr>\n",
       "      <th>50%</th>\n",
       "      <td>149.000000</td>\n",
       "      <td>29.000000</td>\n",
       "      <td>3.000000</td>\n",
       "    </tr>\n",
       "    <tr>\n",
       "      <th>75%</th>\n",
       "      <td>157.000000</td>\n",
       "      <td>32.000000</td>\n",
       "      <td>4.000000</td>\n",
       "    </tr>\n",
       "    <tr>\n",
       "      <th>max</th>\n",
       "      <td>224.000000</td>\n",
       "      <td>46.000000</td>\n",
       "      <td>9.000000</td>\n",
       "    </tr>\n",
       "  </tbody>\n",
       "</table>\n",
       "</div>"
      ],
      "text/plain": [
       "       num_characters   num_words  num_sentences\n",
       "count      653.000000  653.000000     653.000000\n",
       "mean       137.891271   27.667688       2.970904\n",
       "std         30.137753    7.008418       1.488425\n",
       "min         13.000000    2.000000       1.000000\n",
       "25%        132.000000   25.000000       2.000000\n",
       "50%        149.000000   29.000000       3.000000\n",
       "75%        157.000000   32.000000       4.000000\n",
       "max        224.000000   46.000000       9.000000"
      ]
     },
     "execution_count": 63,
     "metadata": {},
     "output_type": "execute_result"
    }
   ],
   "source": [
    "#spam\n",
    "df[df['target'] == 1][['num_characters','num_words','num_sentences']].describe()"
   ]
  },
  {
   "cell_type": "code",
   "execution_count": 65,
   "id": "4c3a3162-96dc-4844-9b99-03a80d467dab",
   "metadata": {},
   "outputs": [],
   "source": [
    "import seaborn as sns"
   ]
  },
  {
   "cell_type": "code",
   "execution_count": 71,
   "id": "1472afc2-36a9-4a54-b1fc-0d97761cda99",
   "metadata": {},
   "outputs": [
    {
     "data": {
      "text/plain": [
       "<Axes: xlabel='num_characters', ylabel='Count'>"
      ]
     },
     "execution_count": 71,
     "metadata": {},
     "output_type": "execute_result"
    },
    {
     "data": {
      "image/png": "[encoded data removed]",
      "text/plain": [
       "<Figure size 640x480 with 1 Axes>"
      ]
     },
     "metadata": {},
     "output_type": "display_data"
    }
   ],
   "source": [
    "sns.histplot(df[df['target']==0]['num_characters'])\n",
    "sns.histplot(df[df['target']==1]['num_characters'],color='red')"
   ]
  },
  {
   "cell_type": "code",
   "execution_count": 73,
   "id": "5e3ee4e5-0f0d-4823-81dd-d6f1e398c954",
   "metadata": {},
   "outputs": [
    {
     "data": {
      "text/plain": [
       "<Axes: xlabel='num_words', ylabel='Count'>"
      ]
     },
     "execution_count": 73,
     "metadata": {},
     "output_type": "execute_result"
    },
    {
     "data": {
      "image/png": "[encoded data removed]",
      "text/plain": [
       "<Figure size 640x480 with 1 Axes>"
      ]
     },
     "metadata": {},
     "output_type": "display_data"
    }
   ],
   "source": [
    "sns.histplot(df[df['target']==0]['num_words'])\n",
    "sns.histplot(df[df['target']==1]['num_words'],color='red')"
   ]
  },
  {
   "cell_type": "code",
   "execution_count": 75,
   "id": "101d4b1d-d1c1-4992-9bb7-eb6c749c383b",
   "metadata": {},
   "outputs": [
    {
     "data": {
      "text/plain": [
       "<seaborn.axisgrid.PairGrid at 0x29c19ea85c0>"
      ]
     },
     "execution_count": 75,
     "metadata": {},
     "output_type": "execute_result"
    },
    {
     "data": {
      "image/png": "[encoded data removed]",
      "text/plain": [
       "<Figure size 808.875x750 with 12 Axes>"
      ]
     },
     "metadata": {},
     "output_type": "display_data"
    }
   ],
   "source": [
    "sns.pairplot(df,hue='target')"
   ]
  },
  {
   "cell_type": "code",
   "execution_count": 79,
   "id": "ffc4830c-5513-433e-9a82-bc5873a20185",
   "metadata": {},
   "outputs": [
    {
     "data": {
      "text/plain": [
       "<Axes: >"
      ]
     },
     "execution_count": 79,
     "metadata": {},
     "output_type": "execute_result"
    },
    {
     "data": {
      "image/png": "[encoded data removed]",
      "text/plain": [
       "<Figure size 640x480 with 2 Axes>"
      ]
     },
     "metadata": {},
     "output_type": "display_data"
    }
   ],
   "source": [
    "numeric_df = df.select_dtypes(include=['number'])\n",
    "sns.heatmap(numeric_df.corr(), annot=True)"
   ]
  },
  {
   "cell_type": "code",
   "execution_count": 117,
   "id": "868d5411-71d8-4012-aa52-8d6be0af26f0",
   "metadata": {},
   "outputs": [],
   "source": [
    "def transform_text(text):\n",
    "    text = text.lower()\n",
    "    text = nlt.word_tokenize(text)\n",
    "    y = []\n",
    "    for i in text:\n",
    "        if i.isalnum():\n",
    "            y.append(i)\n",
    "    text = y[:]\n",
    "    y.clear()\n",
    "\n",
    "    for i in text:\n",
    "        if i not in stopwords.words('english') and i not in string.punctuation:\n",
    "            y.append(i)\n",
    "    text = y[:]\n",
    "    y.clear()\n",
    "\n",
    "    for i in text:\n",
    "        y.append(ps.stem(i))\n",
    "    return \" \".join(y)"
   ]
  },
  {
   "cell_type": "code",
   "execution_count": 97,
   "id": "c30a1d04-bf13-4d77-b45e-32785d4f4c84",
   "metadata": {},
   "outputs": [
    {
     "name": "stderr",
     "output_type": "stream",
     "text": [
      "[nltk_data] Downloading package stopwords to\n",
      "[nltk_data]     C:\\Users\\acer\\AppData\\Roaming\\nltk_data...\n",
      "[nltk_data]   Unzipping corpora\\stopwords.zip.\n"
     ]
    },
    {
     "data": {
      "text/plain": [
       "True"
      ]
     },
     "execution_count": 97,
     "metadata": {},
     "output_type": "execute_result"
    }
   ],
   "source": [
    "nlt.download('stopwords')"
   ]
  },
  {
   "cell_type": "code",
   "execution_count": 103,
   "id": "2dbbdba5-b793-4c49-be1d-8fdc93ed1090",
   "metadata": {},
   "outputs": [
    {
     "data": {
      "text/plain": [
       "['i',\n",
       " 'me',\n",
       " 'my',\n",
       " 'myself',\n",
       " 'we',\n",
       " 'our',\n",
       " 'ours',\n",
       " 'ourselves',\n",
       " 'you',\n",
       " \"you're\",\n",
       " \"you've\",\n",
       " \"you'll\",\n",
       " \"you'd\",\n",
       " 'your',\n",
       " 'yours',\n",
       " 'yourself',\n",
       " 'yourselves',\n",
       " 'he',\n",
       " 'him',\n",
       " 'his',\n",
       " 'himself',\n",
       " 'she',\n",
       " \"she's\",\n",
       " 'her',\n",
       " 'hers',\n",
       " 'herself',\n",
       " 'it',\n",
       " \"it's\",\n",
       " 'its',\n",
       " 'itself',\n",
       " 'they',\n",
       " 'them',\n",
       " 'their',\n",
       " 'theirs',\n",
       " 'themselves',\n",
       " 'what',\n",
       " 'which',\n",
       " 'who',\n",
       " 'whom',\n",
       " 'this',\n",
       " 'that',\n",
       " \"that'll\",\n",
       " 'these',\n",
       " 'those',\n",
       " 'am',\n",
       " 'is',\n",
       " 'are',\n",
       " 'was',\n",
       " 'were',\n",
       " 'be',\n",
       " 'been',\n",
       " 'being',\n",
       " 'have',\n",
       " 'has',\n",
       " 'had',\n",
       " 'having',\n",
       " 'do',\n",
       " 'does',\n",
       " 'did',\n",
       " 'doing',\n",
       " 'a',\n",
       " 'an',\n",
       " 'the',\n",
       " 'and',\n",
       " 'but',\n",
       " 'if',\n",
       " 'or',\n",
       " 'because',\n",
       " 'as',\n",
       " 'until',\n",
       " 'while',\n",
       " 'of',\n",
       " 'at',\n",
       " 'by',\n",
       " 'for',\n",
       " 'with',\n",
       " 'about',\n",
       " 'against',\n",
       " 'between',\n",
       " 'into',\n",
       " 'through',\n",
       " 'during',\n",
       " 'before',\n",
       " 'after',\n",
       " 'above',\n",
       " 'below',\n",
       " 'to',\n",
       " 'from',\n",
       " 'up',\n",
       " 'down',\n",
       " 'in',\n",
       " 'out',\n",
       " 'on',\n",
       " 'off',\n",
       " 'over',\n",
       " 'under',\n",
       " 'again',\n",
       " 'further',\n",
       " 'then',\n",
       " 'once',\n",
       " 'here',\n",
       " 'there',\n",
       " 'when',\n",
       " 'where',\n",
       " 'why',\n",
       " 'how',\n",
       " 'all',\n",
       " 'any',\n",
       " 'both',\n",
       " 'each',\n",
       " 'few',\n",
       " 'more',\n",
       " 'most',\n",
       " 'other',\n",
       " 'some',\n",
       " 'such',\n",
       " 'no',\n",
       " 'nor',\n",
       " 'not',\n",
       " 'only',\n",
       " 'own',\n",
       " 'same',\n",
       " 'so',\n",
       " 'than',\n",
       " 'too',\n",
       " 'very',\n",
       " 's',\n",
       " 't',\n",
       " 'can',\n",
       " 'will',\n",
       " 'just',\n",
       " 'don',\n",
       " \"don't\",\n",
       " 'should',\n",
       " \"should've\",\n",
       " 'now',\n",
       " 'd',\n",
       " 'll',\n",
       " 'm',\n",
       " 'o',\n",
       " 're',\n",
       " 've',\n",
       " 'y',\n",
       " 'ain',\n",
       " 'aren',\n",
       " \"aren't\",\n",
       " 'couldn',\n",
       " \"couldn't\",\n",
       " 'didn',\n",
       " \"didn't\",\n",
       " 'doesn',\n",
       " \"doesn't\",\n",
       " 'hadn',\n",
       " \"hadn't\",\n",
       " 'hasn',\n",
       " \"hasn't\",\n",
       " 'haven',\n",
       " \"haven't\",\n",
       " 'isn',\n",
       " \"isn't\",\n",
       " 'ma',\n",
       " 'mightn',\n",
       " \"mightn't\",\n",
       " 'mustn',\n",
       " \"mustn't\",\n",
       " 'needn',\n",
       " \"needn't\",\n",
       " 'shan',\n",
       " \"shan't\",\n",
       " 'shouldn',\n",
       " \"shouldn't\",\n",
       " 'wasn',\n",
       " \"wasn't\",\n",
       " 'weren',\n",
       " \"weren't\",\n",
       " 'won',\n",
       " \"won't\",\n",
       " 'wouldn',\n",
       " \"wouldn't\"]"
      ]
     },
     "execution_count": 103,
     "metadata": {},
     "output_type": "execute_result"
    }
   ],
   "source": [
    "from nltk.corpus import stopwords\n",
    "stopwords.words('english')\n"
   ]
  },
  {
   "cell_type": "code",
   "execution_count": 105,
   "id": "ab88e074-e232-42a6-9544-618f984461f5",
   "metadata": {},
   "outputs": [
    {
     "data": {
      "text/plain": [
       "'!\"#$%&\\'()*+,-./:;<=>?@[\\\\]^_`{|}~'"
      ]
     },
     "execution_count": 105,
     "metadata": {},
     "output_type": "execute_result"
    }
   ],
   "source": [
    "import string\n",
    "string.punctuation"
   ]
  },
  {
   "cell_type": "code",
   "execution_count": 121,
   "id": "db7d8ad7-8fed-4259-b815-b0304f6dc302",
   "metadata": {},
   "outputs": [
    {
     "data": {
      "text/plain": [
       "'love yt lectur machin learn'"
      ]
     },
     "execution_count": 121,
     "metadata": {},
     "output_type": "execute_result"
    }
   ],
   "source": [
    "transform_text('i loved the yt lectures on machine learning . how about you')"
   ]
  },
  {
   "cell_type": "code",
   "execution_count": 115,
   "id": "6b64d1ba-ad4d-46af-a78a-d9dd5585aa1f",
   "metadata": {},
   "outputs": [
    {
     "name": "stdout",
     "output_type": "stream",
     "text": [
      "love\n"
     ]
    }
   ],
   "source": [
    "from nltk.stem.porter import PorterStemmer\n",
    "ps = PorterStemmer()\n",
    "print(ps.stem('loving'))\n"
   ]
  },
  {
   "cell_type": "code",
   "execution_count": 123,
   "id": "5857e3ba-0998-438a-ae90-45654599e2fb",
   "metadata": {},
   "outputs": [],
   "source": [
    "df['transformed_text'] = df['text'].apply(transform_text)"
   ]
  },
  {
   "cell_type": "code",
   "execution_count": 125,
   "id": "2ca6c2fd-d6f1-4966-979c-3cac4540688b",
   "metadata": {},
   "outputs": [
    {
     "data": {
      "text/html": [
       "<div>\n",
       "<style scoped>\n",
       "    .dataframe tbody tr th:only-of-type {\n",
       "        vertical-align: middle;\n",
       "    }\n",
       "\n",
       "    .dataframe tbody tr th {\n",
       "        vertical-align: top;\n",
       "    }\n",
       "\n",
       "    .dataframe thead th {\n",
       "        text-align: right;\n",
       "    }\n",
       "</style>\n",
       "<table border=\"1\" class=\"dataframe\">\n",
       "  <thead>\n",
       "    <tr style=\"text-align: right;\">\n",
       "      <th></th>\n",
       "      <th>target</th>\n",
       "      <th>text</th>\n",
       "      <th>num_characters</th>\n",
       "      <th>num_words</th>\n",
       "      <th>num_sentences</th>\n",
       "      <th>transformed_text</th>\n",
       "    </tr>\n",
       "  </thead>\n",
       "  <tbody>\n",
       "    <tr>\n",
       "      <th>0</th>\n",
       "      <td>0</td>\n",
       "      <td>Go until jurong point, crazy.. Available only ...</td>\n",
       "      <td>111</td>\n",
       "      <td>24</td>\n",
       "      <td>2</td>\n",
       "      <td>go jurong point crazi avail bugi n great world...</td>\n",
       "    </tr>\n",
       "    <tr>\n",
       "      <th>1</th>\n",
       "      <td>0</td>\n",
       "      <td>Ok lar... Joking wif u oni...</td>\n",
       "      <td>29</td>\n",
       "      <td>8</td>\n",
       "      <td>2</td>\n",
       "      <td>ok lar joke wif u oni</td>\n",
       "    </tr>\n",
       "    <tr>\n",
       "      <th>2</th>\n",
       "      <td>1</td>\n",
       "      <td>Free entry in 2 a wkly comp to win FA Cup fina...</td>\n",
       "      <td>155</td>\n",
       "      <td>37</td>\n",
       "      <td>2</td>\n",
       "      <td>free entri 2 wkli comp win fa cup final tkt 21...</td>\n",
       "    </tr>\n",
       "    <tr>\n",
       "      <th>3</th>\n",
       "      <td>0</td>\n",
       "      <td>U dun say so early hor... U c already then say...</td>\n",
       "      <td>49</td>\n",
       "      <td>13</td>\n",
       "      <td>1</td>\n",
       "      <td>u dun say earli hor u c alreadi say</td>\n",
       "    </tr>\n",
       "    <tr>\n",
       "      <th>4</th>\n",
       "      <td>0</td>\n",
       "      <td>Nah I don't think he goes to usf, he lives aro...</td>\n",
       "      <td>61</td>\n",
       "      <td>15</td>\n",
       "      <td>1</td>\n",
       "      <td>nah think goe usf live around though</td>\n",
       "    </tr>\n",
       "  </tbody>\n",
       "</table>\n",
       "</div>"
      ],
      "text/plain": [
       "   target                                               text  num_characters  \\\n",
       "0       0  Go until jurong point, crazy.. Available only ...             111   \n",
       "1       0                      Ok lar... Joking wif u oni...              29   \n",
       "2       1  Free entry in 2 a wkly comp to win FA Cup fina...             155   \n",
       "3       0  U dun say so early hor... U c already then say...              49   \n",
       "4       0  Nah I don't think he goes to usf, he lives aro...              61   \n",
       "\n",
       "   num_words  num_sentences                                   transformed_text  \n",
       "0         24              2  go jurong point crazi avail bugi n great world...  \n",
       "1          8              2                              ok lar joke wif u oni  \n",
       "2         37              2  free entri 2 wkli comp win fa cup final tkt 21...  \n",
       "3         13              1                u dun say earli hor u c alreadi say  \n",
       "4         15              1               nah think goe usf live around though  "
      ]
     },
     "execution_count": 125,
     "metadata": {},
     "output_type": "execute_result"
    }
   ],
   "source": [
    "df.head()"
   ]
  },
  {
   "cell_type": "code",
   "execution_count": 130,
   "id": "0062f4ef-47dd-41ea-a5cd-7cf762b5be2f",
   "metadata": {},
   "outputs": [
    {
     "name": "stdout",
     "output_type": "stream",
     "text": [
      "Collecting wordcloud\n",
      "  Downloading wordcloud-1.9.3-cp312-cp312-win_amd64.whl.metadata (3.5 kB)\n",
      "Requirement already satisfied: numpy>=1.6.1 in c:\\users\\acer\\anaconda3\\lib\\site-packages (from wordcloud) (1.26.4)\n",
      "Requirement already satisfied: pillow in c:\\users\\acer\\anaconda3\\lib\\site-packages (from wordcloud) (10.3.0)\n",
      "Requirement already satisfied: matplotlib in c:\\users\\acer\\anaconda3\\lib\\site-packages (from wordcloud) (3.8.4)\n",
      "Requirement already satisfied: contourpy>=1.0.1 in c:\\users\\acer\\anaconda3\\lib\\site-packages (from matplotlib->wordcloud) (1.2.0)\n",
      "Requirement already satisfied: cycler>=0.10 in c:\\users\\acer\\anaconda3\\lib\\site-packages (from matplotlib->wordcloud) (0.11.0)\n",
      "Requirement already satisfied: fonttools>=4.22.0 in c:\\users\\acer\\anaconda3\\lib\\site-packages (from matplotlib->wordcloud) (4.51.0)\n",
      "Requirement already satisfied: kiwisolver>=1.3.1 in c:\\users\\acer\\anaconda3\\lib\\site-packages (from matplotlib->wordcloud) (1.4.4)\n",
      "Requirement already satisfied: packaging>=20.0 in c:\\users\\acer\\anaconda3\\lib\\site-packages (from matplotlib->wordcloud) (23.2)\n",
      "Requirement already satisfied: pyparsing>=2.3.1 in c:\\users\\acer\\anaconda3\\lib\\site-packages (from matplotlib->wordcloud) (3.0.9)\n",
      "Requirement already satisfied: python-dateutil>=2.7 in c:\\users\\acer\\anaconda3\\lib\\site-packages (from matplotlib->wordcloud) (2.9.0.post0)\n",
      "Requirement already satisfied: six>=1.5 in c:\\users\\acer\\anaconda3\\lib\\site-packages (from python-dateutil>=2.7->matplotlib->wordcloud) (1.16.0)\n",
      "Downloading wordcloud-1.9.3-cp312-cp312-win_amd64.whl (301 kB)\n",
      "   ---------------------------------------- 0.0/301.4 kB ? eta -:--:--\n",
      "   ---------------------------------------- 0.0/301.4 kB ? eta -:--:--\n",
      "   - -------------------------------------- 10.2/301.4 kB ? eta -:--:--\n",
      "   ----- --------------------------------- 41.0/301.4 kB 495.5 kB/s eta 0:00:01\n",
      "   --------- ----------------------------- 71.7/301.4 kB 787.7 kB/s eta 0:00:01\n",
      "   ----------------------- ---------------- 174.1/301.4 kB 1.2 MB/s eta 0:00:01\n",
      "   ------------------------------------ --- 276.5/301.4 kB 1.4 MB/s eta 0:00:01\n",
      "   ---------------------------------------- 301.4/301.4 kB 1.3 MB/s eta 0:00:00\n",
      "Installing collected packages: wordcloud\n",
      "Successfully installed wordcloud-1.9.3\n",
      "Note: you may need to restart the kernel to use updated packages.\n"
     ]
    }
   ],
   "source": [
    "pip install wordcloud\n"
   ]
  },
  {
   "cell_type": "code",
   "execution_count": 134,
   "id": "30df6717-922e-41e8-9259-ca6c39309a74",
   "metadata": {},
   "outputs": [],
   "source": [
    "from wordcloud import WordCloud\n",
    "wc = WordCloud(width = 50 , height = 50,min_font_size = 10,background_color = 'white')"
   ]
  },
  {
   "cell_type": "code",
   "execution_count": 138,
   "id": "a41b278c-9a67-4e7f-8f14-45b531b79099",
   "metadata": {},
   "outputs": [],
   "source": [
    "spam_wc= wc.generate(df[df['target'] == 1]['transformed_text'].str.cat(sep=\" \"))"
   ]
  },
  {
   "cell_type": "code",
   "execution_count": 27,
   "id": "59125274-5441-4827-8a37-203c343a7493",
   "metadata": {},
   "outputs": [
    {
     "ename": "NameError",
     "evalue": "name 'plt' is not defined",
     "output_type": "error",
     "traceback": [
      "\u001b[1;31m---------------------------------------------------------------------------\u001b[0m",
      "\u001b[1;31mNameError\u001b[0m                                 Traceback (most recent call last)",
      "Cell \u001b[1;32mIn[27], line 1\u001b[0m\n\u001b[1;32m----> 1\u001b[0m plt\u001b[38;5;241m.\u001b[39mimshow(spam_wc)\n",
      "\u001b[1;31mNameError\u001b[0m: name 'plt' is not defined"
     ]
    }
   ],
   "source": [
    "plt.imshow(spam_wc)"
   ]
  },
  {
   "cell_type": "code",
   "execution_count": 142,
   "id": "2fcd7492-5070-446d-8a6d-15964fc3e3a7",
   "metadata": {},
   "outputs": [],
   "source": [
    "ham_wc = wc.generate(df[df['target'] == 0]['transformed_text'].str.cat(sep=\" \"))"
   ]
  },
  {
   "cell_type": "code",
   "execution_count": 1,
   "id": "bfebe2a8-ae20-4beb-a6f7-b779d0367433",
   "metadata": {},
   "outputs": [
    {
     "ename": "NameError",
     "evalue": "name 'plt' is not defined",
     "output_type": "error",
     "traceback": [
      "\u001b[1;31m---------------------------------------------------------------------------\u001b[0m",
      "\u001b[1;31mNameError\u001b[0m                                 Traceback (most recent call last)",
      "Cell \u001b[1;32mIn[1], line 1\u001b[0m\n\u001b[1;32m----> 1\u001b[0m plt\u001b[38;5;241m.\u001b[39mimshow(ham_wc)\n",
      "\u001b[1;31mNameError\u001b[0m: name 'plt' is not defined"
     ]
    }
   ],
   "source": [
    "plt.imshow(ham_wc)"
   ]
  },
  {
   "cell_type": "code",
   "execution_count": 152,
   "id": "3b25fbd9-1e47-4bcc-abaa-6715b82f4ce7",
   "metadata": {},
   "outputs": [],
   "source": [
    "spam_corpus = []\n",
    "for msg in df[df['target'] == 1]['transformed_text'].tolist():\n",
    "    for words in msg.split():\n",
    "        spam_corpus.append(words)\n"
   ]
  },
  {
   "cell_type": "code",
   "execution_count": 154,
   "id": "4a218586-1e6c-4083-a293-ff8cc6a4c3bc",
   "metadata": {},
   "outputs": [
    {
     "data": {
      "text/plain": [
       "9939"
      ]
     },
     "execution_count": 154,
     "metadata": {},
     "output_type": "execute_result"
    }
   ],
   "source": [
    "len(spam_corpus)"
   ]
  },
  {
   "cell_type": "code",
   "execution_count": 172,
   "id": "bca332d5-20c7-4c0f-838b-443fd580dea3",
   "metadata": {},
   "outputs": [
    {
     "data": {
      "image/png": "[encoded data removed]",
      "text/plain": [
       "<Figure size 1000x600 with 1 Axes>"
      ]
     },
     "metadata": {},
     "output_type": "display_data"
    }
   ],
   "source": [
    "from collections import Counter\n",
    "top_words = pd.DataFrame(Counter(spam_corpus).most_common(30), columns=['Word', 'Frequency'])\n",
    "\n",
    "# Plotting\n",
    "plt.figure(figsize=(10, 6))\n",
    "sns.barplot(x='Word', y='Frequency', data=top_words)\n",
    "plt.xticks(rotation='vertical')\n",
    "plt.show()"
   ]
  },
  {
   "cell_type": "code",
   "execution_count": 174,
   "id": "abc961f3-e4e1-4c23-976e-c4e81b0d06c9",
   "metadata": {},
   "outputs": [],
   "source": [
    "ham_corpus = []\n",
    "for msg in df[df['target'] == 0]['transformed_text'].tolist():\n",
    "    for word in msg.split():\n",
    "        ham_corpus.append(word)\n"
   ]
  },
  {
   "cell_type": "code",
   "execution_count": 176,
   "id": "e0e60b24-a386-48b6-869d-382c405262c3",
   "metadata": {},
   "outputs": [
    {
     "data": {
      "text/plain": [
       "35404"
      ]
     },
     "execution_count": 176,
     "metadata": {},
     "output_type": "execute_result"
    }
   ],
   "source": [
    "len(ham_corpus)"
   ]
  },
  {
   "cell_type": "code",
   "execution_count": 29,
   "id": "a101160e-800a-4aa9-87b2-e69b669a5df1",
   "metadata": {},
   "outputs": [
    {
     "ename": "NameError",
     "evalue": "name 'pd' is not defined",
     "output_type": "error",
     "traceback": [
      "\u001b[1;31m---------------------------------------------------------------------------\u001b[0m",
      "\u001b[1;31mNameError\u001b[0m                                 Traceback (most recent call last)",
      "Cell \u001b[1;32mIn[29], line 2\u001b[0m\n\u001b[0;32m      1\u001b[0m \u001b[38;5;28;01mfrom\u001b[39;00m \u001b[38;5;21;01mcollections\u001b[39;00m \u001b[38;5;28;01mimport\u001b[39;00m Counter\n\u001b[1;32m----> 2\u001b[0m top_words \u001b[38;5;241m=\u001b[39m pd\u001b[38;5;241m.\u001b[39mDataFrame(Counter(ham_corpus)\u001b[38;5;241m.\u001b[39mmost_common(\u001b[38;5;241m30\u001b[39m), columns\u001b[38;5;241m=\u001b[39m[\u001b[38;5;124m'\u001b[39m\u001b[38;5;124mWord\u001b[39m\u001b[38;5;124m'\u001b[39m, \u001b[38;5;124m'\u001b[39m\u001b[38;5;124mFrequency\u001b[39m\u001b[38;5;124m'\u001b[39m])\n\u001b[0;32m      4\u001b[0m \u001b[38;5;66;03m# Plotting\u001b[39;00m\n\u001b[0;32m      5\u001b[0m plt\u001b[38;5;241m.\u001b[39mfigure(figsize\u001b[38;5;241m=\u001b[39m(\u001b[38;5;241m10\u001b[39m, \u001b[38;5;241m6\u001b[39m))\n",
      "\u001b[1;31mNameError\u001b[0m: name 'pd' is not defined"
     ]
    }
   ],
   "source": [
    "from collections import Counter\n",
    "top_words = pd.DataFrame(Counter(ham_corpus).most_common(30), columns=['Word', 'Frequency'])\n",
    "\n",
    "# Plotting\n",
    "plt.figure(figsize=(10, 6))\n",
    "sns.barplot(x='Word', y='Frequency', data=top_words)\n",
    "plt.xticks(rotation='vertical')\n",
    "plt.show()"
   ]
  },
  {
   "cell_type": "code",
   "execution_count": 220,
   "id": "2ed6792f-a0cb-4d08-aa17-d606b8466899",
   "metadata": {},
   "outputs": [],
   "source": [
    "from sklearn.feature_extraction.text import CountVectorizer, TfidfVectorizer\n",
    "cv =  CountVectorizer()\n",
    "tfidf = TfidfVectorizer()"
   ]
  },
  {
   "cell_type": "code",
   "execution_count": 222,
   "id": "9871f80b-0a73-43e7-833a-fbb0e0ac7817",
   "metadata": {},
   "outputs": [],
   "source": [
    "X = tfidf.fit_transform(df['transformed_text']).toarray()"
   ]
  },
  {
   "cell_type": "code",
   "execution_count": 224,
   "id": "b096df31-3adb-4886-91ee-0284b4fcb0ca",
   "metadata": {},
   "outputs": [
    {
     "data": {
      "text/plain": [
       "(5169, 6708)"
      ]
     },
     "execution_count": 224,
     "metadata": {},
     "output_type": "execute_result"
    }
   ],
   "source": [
    "X.shape"
   ]
  },
  {
   "cell_type": "code",
   "execution_count": 226,
   "id": "90b3a75a-d07c-4220-ac83-0b4465967b3c",
   "metadata": {},
   "outputs": [],
   "source": [
    "y = df['target'].values"
   ]
  },
  {
   "cell_type": "code",
   "execution_count": 228,
   "id": "bad7c632-fae8-43eb-ba37-b3d39f4a3cdf",
   "metadata": {},
   "outputs": [
    {
     "data": {
      "text/plain": [
       "array([0, 0, 1, ..., 0, 0, 0])"
      ]
     },
     "execution_count": 228,
     "metadata": {},
     "output_type": "execute_result"
    }
   ],
   "source": [
    "y"
   ]
  },
  {
   "cell_type": "code",
   "execution_count": 230,
   "id": "bb835d28-4b1a-4736-a4e4-80714d13de6b",
   "metadata": {},
   "outputs": [],
   "source": [
    "from sklearn.model_selection import train_test_split\n"
   ]
  },
  {
   "cell_type": "code",
   "execution_count": 232,
   "id": "b6a4eb31-15b9-4e02-89f5-59054622a707",
   "metadata": {},
   "outputs": [],
   "source": [
    "X_train,X_test,y_train,y_test = train_test_split(X,y,test_size = 0.2,random_state = 2)"
   ]
  },
  {
   "cell_type": "code",
   "execution_count": 234,
   "id": "b2996d28-0d48-4359-ba86-7ef07064d13d",
   "metadata": {},
   "outputs": [],
   "source": [
    "from sklearn.naive_bayes import GaussianNB , MultinomialNB , BernoulliNB\n",
    "from sklearn.metrics import accuracy_score , confusion_matrix,precision_score"
   ]
  },
  {
   "cell_type": "code",
   "execution_count": 236,
   "id": "bbebbe8f-8b6a-4c2e-830b-a83323768c0d",
   "metadata": {},
   "outputs": [],
   "source": [
    "gnb =  GaussianNB()\n",
    "mnb = MultinomialNB()\n",
    "bnb = BernoulliNB()\n"
   ]
  },
  {
   "cell_type": "code",
   "execution_count": 244,
   "id": "5d0ffed7-5f78-42b6-8def-9f34701f4e67",
   "metadata": {},
   "outputs": [
    {
     "name": "stdout",
     "output_type": "stream",
     "text": [
      "0.8762088974854932\n",
      "[[793 103]\n",
      " [ 25 113]]\n",
      "0.5231481481481481\n"
     ]
    }
   ],
   "source": [
    "gnb.fit(X_train,y_train)\n",
    "y_pred1 = gnb.predict(X_test)\n",
    "print(accuracy_score(y_test,y_pred1))\n",
    "print(confusion_matrix(y_test,y_pred1))\n",
    "print(precision_score(y_test,y_pred1))\n",
    "\n"
   ]
  },
  {
   "cell_type": "code",
   "execution_count": 25,
   "id": "9db8f0c9-b84d-4d92-a95c-db2b15e88a34",
   "metadata": {},
   "outputs": [
    {
     "ename": "NameError",
     "evalue": "name 'mnb' is not defined",
     "output_type": "error",
     "traceback": [
      "\u001b[1;31m---------------------------------------------------------------------------\u001b[0m",
      "\u001b[1;31mNameError\u001b[0m                                 Traceback (most recent call last)",
      "Cell \u001b[1;32mIn[25], line 1\u001b[0m\n\u001b[1;32m----> 1\u001b[0m mnb\u001b[38;5;241m.\u001b[39mfit(X_train,y_train)\n\u001b[0;32m      2\u001b[0m y_pred2 \u001b[38;5;241m=\u001b[39m mnb\u001b[38;5;241m.\u001b[39mpredict(X_test)\n\u001b[0;32m      3\u001b[0m \u001b[38;5;28mprint\u001b[39m(accuracy_score(y_test,y_pred2))\n",
      "\u001b[1;31mNameError\u001b[0m: name 'mnb' is not defined"
     ]
    }
   ],
   "source": [
    "mnb.fit(X_train,y_train)\n",
    "y_pred2 = mnb.predict(X_test)\n",
    "print(accuracy_score(y_test,y_pred2))\n",
    "print(confusion_matrix(y_test,y_pred2))\n",
    "print(precision_score(y_test,y_pred2))\n",
    "\n"
   ]
  },
  {
   "cell_type": "code",
   "execution_count": 23,
   "id": "81dbc3e3-1db3-41e6-a6f3-35547910ef46",
   "metadata": {},
   "outputs": [
    {
     "ename": "NameError",
     "evalue": "name 'bnb' is not defined",
     "output_type": "error",
     "traceback": [
      "\u001b[1;31m---------------------------------------------------------------------------\u001b[0m",
      "\u001b[1;31mNameError\u001b[0m                                 Traceback (most recent call last)",
      "Cell \u001b[1;32mIn[23], line 1\u001b[0m\n\u001b[1;32m----> 1\u001b[0m bnb\u001b[38;5;241m.\u001b[39mfit(X_train,y_train)\n\u001b[0;32m      2\u001b[0m y_pred3 \u001b[38;5;241m=\u001b[39m bnb\u001b[38;5;241m.\u001b[39mpredict(X_test)\n\u001b[0;32m      3\u001b[0m \u001b[38;5;28mprint\u001b[39m(accuracy_score(y_test,y_pred3))\n",
      "\u001b[1;31mNameError\u001b[0m: name 'bnb' is not defined"
     ]
    }
   ],
   "source": [
    "bnb.fit(X_train,y_train)\n",
    "y_pred3 = bnb.predict(X_test)\n",
    "print(accuracy_score(y_test,y_pred3))\n",
    "print(confusion_matrix(y_test,y_pred3))\n",
    "print(precision_score(y_test,y_pred3))\n",
    "\n"
   ]
  },
  {
   "cell_type": "code",
   "execution_count": 250,
   "id": "de20feb5-6abe-43a9-9bf5-5022cf4df519",
   "metadata": {},
   "outputs": [],
   "source": [
    "# tfidf -> MNB"
   ]
  },
  {
   "cell_type": "code",
   "execution_count": 254,
   "id": "c7de4137-e2bd-4f9e-8d78-39dd5ae25cc4",
   "metadata": {},
   "outputs": [
    {
     "name": "stdout",
     "output_type": "stream",
     "text": [
      "Collecting xgboost\n",
      "  Downloading xgboost-2.1.2-py3-none-win_amd64.whl.metadata (2.1 kB)\n",
      "Requirement already satisfied: numpy in c:\\users\\acer\\anaconda3\\lib\\site-packages (from xgboost) (1.26.4)\n",
      "Requirement already satisfied: scipy in c:\\users\\acer\\anaconda3\\lib\\site-packages (from xgboost) (1.13.1)\n",
      "Downloading xgboost-2.1.2-py3-none-win_amd64.whl (124.9 MB)\n",
      "   ---------------------------------------- 0.0/124.9 MB ? eta -:--:--\n",
      "   ---------------------------------------- 0.0/124.9 MB ? eta -:--:--\n",
      "   ---------------------------------------- 0.0/124.9 MB ? eta -:--:--\n",
      "   ---------------------------------------- 0.0/124.9 MB 326.8 kB/s eta 0:06:23\n",
      "   ---------------------------------------- 0.1/124.9 MB 798.9 kB/s eta 0:02:37\n",
      "   ---------------------------------------- 0.3/124.9 MB 1.3 MB/s eta 0:01:36\n",
      "   ---------------------------------------- 0.3/124.9 MB 1.4 MB/s eta 0:01:30\n",
      "   ---------------------------------------- 0.5/124.9 MB 1.7 MB/s eta 0:01:12\n",
      "   ---------------------------------------- 0.7/124.9 MB 2.0 MB/s eta 0:01:04\n",
      "   ---------------------------------------- 0.8/124.9 MB 2.2 MB/s eta 0:00:56\n",
      "   ---------------------------------------- 1.1/124.9 MB 2.5 MB/s eta 0:00:50\n",
      "   ---------------------------------------- 1.3/124.9 MB 2.7 MB/s eta 0:00:47\n",
      "   ---------------------------------------- 1.5/124.9 MB 2.8 MB/s eta 0:00:44\n",
      "    --------------------------------------- 1.7/124.9 MB 3.1 MB/s eta 0:00:41\n",
      "    --------------------------------------- 2.0/124.9 MB 3.2 MB/s eta 0:00:39\n",
      "    --------------------------------------- 2.2/124.9 MB 3.3 MB/s eta 0:00:38\n",
      "    --------------------------------------- 2.4/124.9 MB 3.5 MB/s eta 0:00:36\n",
      "    --------------------------------------- 2.5/124.9 MB 3.5 MB/s eta 0:00:36\n",
      "    --------------------------------------- 2.8/124.9 MB 3.5 MB/s eta 0:00:36\n",
      "    --------------------------------------- 3.1/124.9 MB 3.7 MB/s eta 0:00:34\n",
      "   - -------------------------------------- 3.3/124.9 MB 3.6 MB/s eta 0:00:34\n",
      "   - -------------------------------------- 3.5/124.9 MB 3.8 MB/s eta 0:00:33\n",
      "   - -------------------------------------- 3.7/124.9 MB 3.7 MB/s eta 0:00:33\n",
      "   - -------------------------------------- 3.9/124.9 MB 3.7 MB/s eta 0:00:33\n",
      "   - -------------------------------------- 4.2/124.9 MB 3.9 MB/s eta 0:00:32\n",
      "   - -------------------------------------- 4.5/124.9 MB 3.9 MB/s eta 0:00:31\n",
      "   - -------------------------------------- 4.8/124.9 MB 4.0 MB/s eta 0:00:31\n",
      "   - -------------------------------------- 5.2/124.9 MB 4.2 MB/s eta 0:00:29\n",
      "   - -------------------------------------- 5.2/124.9 MB 4.2 MB/s eta 0:00:29\n",
      "   - -------------------------------------- 5.6/124.9 MB 4.2 MB/s eta 0:00:29\n",
      "   - -------------------------------------- 6.0/124.9 MB 4.3 MB/s eta 0:00:28\n",
      "   -- ------------------------------------- 6.3/124.9 MB 4.4 MB/s eta 0:00:27\n",
      "   -- ------------------------------------- 6.5/124.9 MB 4.3 MB/s eta 0:00:28\n",
      "   -- ------------------------------------- 6.8/124.9 MB 4.5 MB/s eta 0:00:27\n",
      "   -- ------------------------------------- 7.1/124.9 MB 4.5 MB/s eta 0:00:27\n",
      "   -- ------------------------------------- 7.5/124.9 MB 4.7 MB/s eta 0:00:26\n",
      "   -- ------------------------------------- 7.9/124.9 MB 4.7 MB/s eta 0:00:25\n",
      "   -- ------------------------------------- 8.1/124.9 MB 4.8 MB/s eta 0:00:25\n",
      "   -- ------------------------------------- 8.4/124.9 MB 4.8 MB/s eta 0:00:25\n",
      "   -- ------------------------------------- 8.6/124.9 MB 4.8 MB/s eta 0:00:25\n",
      "   -- ------------------------------------- 9.1/124.9 MB 4.9 MB/s eta 0:00:24\n",
      "   --- ------------------------------------ 9.4/124.9 MB 4.9 MB/s eta 0:00:24\n",
      "   --- ------------------------------------ 9.8/124.9 MB 5.0 MB/s eta 0:00:23\n",
      "   --- ------------------------------------ 10.1/124.9 MB 5.1 MB/s eta 0:00:23\n",
      "   --- ------------------------------------ 10.4/124.9 MB 5.5 MB/s eta 0:00:21\n",
      "   --- ------------------------------------ 10.8/124.9 MB 5.7 MB/s eta 0:00:20\n",
      "   --- ------------------------------------ 11.2/124.9 MB 5.9 MB/s eta 0:00:20\n",
      "   --- ------------------------------------ 11.6/124.9 MB 6.0 MB/s eta 0:00:19\n",
      "   --- ------------------------------------ 11.9/124.9 MB 6.1 MB/s eta 0:00:19\n",
      "   --- ------------------------------------ 12.3/124.9 MB 6.2 MB/s eta 0:00:19\n",
      "   ---- ----------------------------------- 12.6/124.9 MB 6.3 MB/s eta 0:00:18\n",
      "   ---- ----------------------------------- 13.0/124.9 MB 6.5 MB/s eta 0:00:18\n",
      "   ---- ----------------------------------- 13.3/124.9 MB 6.5 MB/s eta 0:00:18\n",
      "   ---- ----------------------------------- 13.6/124.9 MB 6.5 MB/s eta 0:00:17\n",
      "   ---- ----------------------------------- 13.9/124.9 MB 6.8 MB/s eta 0:00:17\n",
      "   ---- ----------------------------------- 13.9/124.9 MB 6.5 MB/s eta 0:00:17\n",
      "   ---- ----------------------------------- 14.2/124.9 MB 6.6 MB/s eta 0:00:17\n",
      "   ---- ----------------------------------- 14.5/124.9 MB 6.6 MB/s eta 0:00:17\n",
      "   ---- ----------------------------------- 14.8/124.9 MB 6.6 MB/s eta 0:00:17\n",
      "   ---- ----------------------------------- 15.2/124.9 MB 6.7 MB/s eta 0:00:17\n",
      "   ----- ---------------------------------- 15.7/124.9 MB 6.8 MB/s eta 0:00:17\n",
      "   ----- ---------------------------------- 16.0/124.9 MB 7.0 MB/s eta 0:00:16\n",
      "   ----- ---------------------------------- 16.5/124.9 MB 6.9 MB/s eta 0:00:16\n",
      "   ----- ---------------------------------- 16.8/124.9 MB 7.0 MB/s eta 0:00:16\n",
      "   ----- ---------------------------------- 17.2/124.9 MB 7.0 MB/s eta 0:00:16\n",
      "   ----- ---------------------------------- 17.5/124.9 MB 7.0 MB/s eta 0:00:16\n",
      "   ----- ---------------------------------- 17.9/124.9 MB 7.1 MB/s eta 0:00:16\n",
      "   ----- ---------------------------------- 18.3/124.9 MB 7.1 MB/s eta 0:00:15\n",
      "   ----- ---------------------------------- 18.6/124.9 MB 7.2 MB/s eta 0:00:15\n",
      "   ------ --------------------------------- 19.0/124.9 MB 7.3 MB/s eta 0:00:15\n",
      "   ------ --------------------------------- 19.3/124.9 MB 7.1 MB/s eta 0:00:15\n",
      "   ------ --------------------------------- 19.5/124.9 MB 7.0 MB/s eta 0:00:15\n",
      "   ------ --------------------------------- 19.7/124.9 MB 7.0 MB/s eta 0:00:16\n",
      "   ------ --------------------------------- 20.1/124.9 MB 7.0 MB/s eta 0:00:16\n",
      "   ------ --------------------------------- 20.3/124.9 MB 6.8 MB/s eta 0:00:16\n",
      "   ------ --------------------------------- 20.6/124.9 MB 7.0 MB/s eta 0:00:15\n",
      "   ------ --------------------------------- 21.0/124.9 MB 7.0 MB/s eta 0:00:15\n",
      "   ------ --------------------------------- 21.2/124.9 MB 7.0 MB/s eta 0:00:15\n",
      "   ------ --------------------------------- 21.5/124.9 MB 7.0 MB/s eta 0:00:15\n",
      "   ------ --------------------------------- 21.8/124.9 MB 7.0 MB/s eta 0:00:15\n",
      "   ------- -------------------------------- 22.1/124.9 MB 6.9 MB/s eta 0:00:15\n",
      "   ------- -------------------------------- 22.3/124.9 MB 7.0 MB/s eta 0:00:15\n",
      "   ------- -------------------------------- 22.6/124.9 MB 7.0 MB/s eta 0:00:15\n",
      "   ------- -------------------------------- 22.8/124.9 MB 7.0 MB/s eta 0:00:15\n",
      "   ------- -------------------------------- 22.9/124.9 MB 6.8 MB/s eta 0:00:15\n",
      "   ------- -------------------------------- 23.1/124.9 MB 6.8 MB/s eta 0:00:15\n",
      "   ------- -------------------------------- 23.4/124.9 MB 6.8 MB/s eta 0:00:15\n",
      "   ------- -------------------------------- 23.7/124.9 MB 6.8 MB/s eta 0:00:15\n",
      "   ------- -------------------------------- 24.0/124.9 MB 6.8 MB/s eta 0:00:15\n",
      "   ------- -------------------------------- 24.4/124.9 MB 7.0 MB/s eta 0:00:15\n",
      "   ------- -------------------------------- 24.7/124.9 MB 7.1 MB/s eta 0:00:15\n",
      "   -------- ------------------------------- 25.1/124.9 MB 7.1 MB/s eta 0:00:15\n",
      "   -------- ------------------------------- 25.4/124.9 MB 7.0 MB/s eta 0:00:15\n",
      "   -------- ------------------------------- 25.8/124.9 MB 7.0 MB/s eta 0:00:15\n",
      "   -------- ------------------------------- 26.1/124.9 MB 7.0 MB/s eta 0:00:15\n",
      "   -------- ------------------------------- 26.4/124.9 MB 7.0 MB/s eta 0:00:14\n",
      "   -------- ------------------------------- 26.5/124.9 MB 7.0 MB/s eta 0:00:15\n",
      "   -------- ------------------------------- 26.5/124.9 MB 7.0 MB/s eta 0:00:15\n",
      "   -------- ------------------------------- 26.7/124.9 MB 6.5 MB/s eta 0:00:16\n",
      "   -------- ------------------------------- 27.0/124.9 MB 6.5 MB/s eta 0:00:16\n",
      "   -------- ------------------------------- 27.4/124.9 MB 6.4 MB/s eta 0:00:16\n",
      "   -------- ------------------------------- 27.7/124.9 MB 6.4 MB/s eta 0:00:16\n",
      "   -------- ------------------------------- 28.1/124.9 MB 6.4 MB/s eta 0:00:16\n",
      "   --------- ------------------------------ 28.5/124.9 MB 6.4 MB/s eta 0:00:16\n",
      "   --------- ------------------------------ 28.9/124.9 MB 6.4 MB/s eta 0:00:15\n",
      "   --------- ------------------------------ 28.9/124.9 MB 6.5 MB/s eta 0:00:15\n",
      "   --------- ------------------------------ 28.9/124.9 MB 6.5 MB/s eta 0:00:15\n",
      "   --------- ------------------------------ 28.9/124.9 MB 6.5 MB/s eta 0:00:15\n",
      "   --------- ------------------------------ 30.0/124.9 MB 6.5 MB/s eta 0:00:15\n",
      "   --------- ------------------------------ 30.2/124.9 MB 6.4 MB/s eta 0:00:15\n",
      "   --------- ------------------------------ 30.4/124.9 MB 6.4 MB/s eta 0:00:15\n",
      "   --------- ------------------------------ 30.8/124.9 MB 6.4 MB/s eta 0:00:15\n",
      "   --------- ------------------------------ 31.0/124.9 MB 6.4 MB/s eta 0:00:15\n",
      "   --------- ------------------------------ 31.1/124.9 MB 6.1 MB/s eta 0:00:16\n",
      "   ---------- ----------------------------- 31.5/124.9 MB 6.2 MB/s eta 0:00:15\n",
      "   ---------- ----------------------------- 31.9/124.9 MB 6.2 MB/s eta 0:00:16\n",
      "   ---------- ----------------------------- 32.2/124.9 MB 6.2 MB/s eta 0:00:15\n",
      "   ---------- ----------------------------- 32.6/124.9 MB 6.2 MB/s eta 0:00:15\n",
      "   ---------- ----------------------------- 32.9/124.9 MB 6.2 MB/s eta 0:00:15\n",
      "   ---------- ----------------------------- 33.2/124.9 MB 6.3 MB/s eta 0:00:15\n",
      "   ---------- ----------------------------- 33.3/124.9 MB 6.4 MB/s eta 0:00:15\n",
      "   ---------- ----------------------------- 33.3/124.9 MB 6.4 MB/s eta 0:00:15\n",
      "   ---------- ----------------------------- 34.1/124.9 MB 6.4 MB/s eta 0:00:15\n",
      "   ----------- ---------------------------- 34.4/124.9 MB 6.3 MB/s eta 0:00:15\n",
      "   ----------- ---------------------------- 34.6/124.9 MB 6.2 MB/s eta 0:00:15\n",
      "   ----------- ---------------------------- 34.8/124.9 MB 6.2 MB/s eta 0:00:15\n",
      "   ----------- ---------------------------- 35.2/124.9 MB 6.1 MB/s eta 0:00:15\n",
      "   ----------- ---------------------------- 35.6/124.9 MB 6.2 MB/s eta 0:00:15\n",
      "   ----------- ---------------------------- 35.9/124.9 MB 6.1 MB/s eta 0:00:15\n",
      "   ----------- ---------------------------- 36.2/124.9 MB 6.2 MB/s eta 0:00:15\n",
      "   ----------- ---------------------------- 36.6/124.9 MB 6.1 MB/s eta 0:00:15\n",
      "   ----------- ---------------------------- 37.0/124.9 MB 6.5 MB/s eta 0:00:14\n",
      "   ----------- ---------------------------- 37.4/124.9 MB 6.6 MB/s eta 0:00:14\n",
      "   ------------ --------------------------- 37.7/124.9 MB 6.6 MB/s eta 0:00:14\n",
      "   ------------ --------------------------- 38.0/124.9 MB 6.5 MB/s eta 0:00:14\n",
      "   ------------ --------------------------- 38.3/124.9 MB 6.5 MB/s eta 0:00:14\n",
      "   ------------ --------------------------- 38.5/124.9 MB 6.5 MB/s eta 0:00:14\n",
      "   ------------ --------------------------- 38.7/124.9 MB 6.4 MB/s eta 0:00:14\n",
      "   ------------ --------------------------- 38.9/124.9 MB 6.4 MB/s eta 0:00:14\n",
      "   ------------ --------------------------- 39.2/124.9 MB 6.3 MB/s eta 0:00:14\n",
      "   ------------ --------------------------- 39.4/124.9 MB 6.8 MB/s eta 0:00:13\n",
      "   ------------ --------------------------- 39.5/124.9 MB 6.6 MB/s eta 0:00:13\n",
      "   ------------ --------------------------- 39.8/124.9 MB 6.4 MB/s eta 0:00:14\n",
      "   ------------ --------------------------- 40.2/124.9 MB 6.3 MB/s eta 0:00:14\n",
      "   ------------ --------------------------- 40.4/124.9 MB 6.4 MB/s eta 0:00:14\n",
      "   ------------- -------------------------- 40.9/124.9 MB 6.4 MB/s eta 0:00:14\n",
      "   ------------- -------------------------- 41.2/124.9 MB 6.4 MB/s eta 0:00:14\n",
      "   ------------- -------------------------- 41.2/124.9 MB 6.4 MB/s eta 0:00:14\n",
      "   ------------- -------------------------- 41.9/124.9 MB 6.6 MB/s eta 0:00:13\n",
      "   ------------- -------------------------- 42.1/124.9 MB 6.6 MB/s eta 0:00:13\n",
      "   ------------- -------------------------- 42.5/124.9 MB 6.5 MB/s eta 0:00:13\n",
      "   ------------- -------------------------- 42.9/124.9 MB 6.5 MB/s eta 0:00:13\n",
      "   ------------- -------------------------- 43.2/124.9 MB 6.5 MB/s eta 0:00:13\n",
      "   ------------- -------------------------- 43.5/124.9 MB 6.5 MB/s eta 0:00:13\n",
      "   -------------- ------------------------- 43.9/124.9 MB 6.9 MB/s eta 0:00:12\n",
      "   -------------- ------------------------- 44.2/124.9 MB 6.7 MB/s eta 0:00:13\n",
      "   -------------- ------------------------- 44.4/124.9 MB 6.5 MB/s eta 0:00:13\n",
      "   -------------- ------------------------- 44.6/124.9 MB 6.5 MB/s eta 0:00:13\n",
      "   -------------- ------------------------- 45.0/124.9 MB 6.6 MB/s eta 0:00:13\n",
      "   -------------- ------------------------- 45.3/124.9 MB 6.6 MB/s eta 0:00:13\n",
      "   -------------- ------------------------- 45.6/124.9 MB 6.6 MB/s eta 0:00:12\n",
      "   -------------- ------------------------- 46.0/124.9 MB 6.5 MB/s eta 0:00:13\n",
      "   -------------- ------------------------- 46.3/124.9 MB 6.5 MB/s eta 0:00:13\n",
      "   -------------- ------------------------- 46.4/124.9 MB 6.6 MB/s eta 0:00:12\n",
      "   --------------- ------------------------ 46.9/124.9 MB 6.6 MB/s eta 0:00:12\n",
      "   --------------- ------------------------ 47.0/124.9 MB 6.4 MB/s eta 0:00:13\n",
      "   --------------- ------------------------ 47.1/124.9 MB 6.2 MB/s eta 0:00:13\n",
      "   --------------- ------------------------ 47.5/124.9 MB 6.2 MB/s eta 0:00:13\n",
      "   --------------- ------------------------ 47.9/124.9 MB 6.3 MB/s eta 0:00:13\n",
      "   --------------- ------------------------ 48.3/124.9 MB 6.3 MB/s eta 0:00:13\n",
      "   --------------- ------------------------ 48.5/124.9 MB 6.3 MB/s eta 0:00:13\n",
      "   --------------- ------------------------ 48.9/124.9 MB 6.5 MB/s eta 0:00:12\n",
      "   --------------- ------------------------ 49.3/124.9 MB 6.5 MB/s eta 0:00:12\n",
      "   --------------- ------------------------ 49.7/124.9 MB 6.5 MB/s eta 0:00:12\n",
      "   --------------- ------------------------ 49.8/124.9 MB 6.6 MB/s eta 0:00:12\n",
      "   --------------- ------------------------ 49.8/124.9 MB 6.6 MB/s eta 0:00:12\n",
      "   ---------------- ----------------------- 50.4/124.9 MB 6.5 MB/s eta 0:00:12\n",
      "   ---------------- ----------------------- 50.6/124.9 MB 6.5 MB/s eta 0:00:12\n",
      "   ---------------- ----------------------- 50.8/124.9 MB 6.4 MB/s eta 0:00:12\n",
      "   ---------------- ----------------------- 51.0/124.9 MB 6.3 MB/s eta 0:00:12\n",
      "   ---------------- ----------------------- 51.3/124.9 MB 6.2 MB/s eta 0:00:12\n",
      "   ---------------- ----------------------- 51.6/124.9 MB 6.4 MB/s eta 0:00:12\n",
      "   ---------------- ----------------------- 51.7/124.9 MB 6.2 MB/s eta 0:00:12\n",
      "   ---------------- ----------------------- 52.0/124.9 MB 6.1 MB/s eta 0:00:12\n",
      "   ---------------- ----------------------- 52.3/124.9 MB 6.1 MB/s eta 0:00:12\n",
      "   ---------------- ----------------------- 52.6/124.9 MB 6.1 MB/s eta 0:00:12\n",
      "   ---------------- ----------------------- 52.9/124.9 MB 6.0 MB/s eta 0:00:12\n",
      "   ---------------- ----------------------- 53.0/124.9 MB 6.0 MB/s eta 0:00:13\n",
      "   ----------------- ---------------------- 53.4/124.9 MB 5.9 MB/s eta 0:00:13\n",
      "   ----------------- ---------------------- 53.6/124.9 MB 5.9 MB/s eta 0:00:13\n",
      "   ----------------- ---------------------- 53.7/124.9 MB 5.9 MB/s eta 0:00:13\n",
      "   ----------------- ---------------------- 53.7/124.9 MB 5.9 MB/s eta 0:00:13\n",
      "   ----------------- ---------------------- 53.7/124.9 MB 5.9 MB/s eta 0:00:13\n",
      "   ----------------- ---------------------- 54.2/124.9 MB 5.5 MB/s eta 0:00:13\n",
      "   ----------------- ---------------------- 54.4/124.9 MB 5.5 MB/s eta 0:00:13\n",
      "   ----------------- ---------------------- 54.6/124.9 MB 5.4 MB/s eta 0:00:14\n",
      "   ----------------- ---------------------- 54.8/124.9 MB 5.5 MB/s eta 0:00:13\n",
      "   ----------------- ---------------------- 54.8/124.9 MB 5.5 MB/s eta 0:00:13\n",
      "   ----------------- ---------------------- 54.8/124.9 MB 5.5 MB/s eta 0:00:13\n",
      "   ----------------- ---------------------- 54.8/124.9 MB 5.5 MB/s eta 0:00:13\n",
      "   ----------------- ---------------------- 54.8/124.9 MB 5.5 MB/s eta 0:00:13\n",
      "   ----------------- ---------------------- 55.1/124.9 MB 4.9 MB/s eta 0:00:15\n",
      "   ----------------- ---------------------- 55.1/124.9 MB 4.8 MB/s eta 0:00:15\n",
      "   ----------------- ---------------------- 55.3/124.9 MB 4.8 MB/s eta 0:00:15\n",
      "   ----------------- ---------------------- 55.3/124.9 MB 4.8 MB/s eta 0:00:15\n",
      "   ----------------- ---------------------- 55.3/124.9 MB 4.8 MB/s eta 0:00:15\n",
      "   ----------------- ---------------------- 55.7/124.9 MB 4.6 MB/s eta 0:00:15\n",
      "   ----------------- ---------------------- 55.9/124.9 MB 4.6 MB/s eta 0:00:16\n",
      "   ----------------- ---------------------- 56.1/124.9 MB 4.5 MB/s eta 0:00:16\n",
      "   ------------------ --------------------- 56.3/124.9 MB 4.5 MB/s eta 0:00:16\n",
      "   ------------------ --------------------- 56.5/124.9 MB 4.5 MB/s eta 0:00:16\n",
      "   ------------------ --------------------- 56.8/124.9 MB 4.5 MB/s eta 0:00:15\n",
      "   ------------------ --------------------- 57.0/124.9 MB 4.5 MB/s eta 0:00:16\n",
      "   ------------------ --------------------- 57.2/124.9 MB 4.5 MB/s eta 0:00:15\n",
      "   ------------------ --------------------- 57.4/124.9 MB 4.5 MB/s eta 0:00:16\n",
      "   ------------------ --------------------- 57.6/124.9 MB 4.4 MB/s eta 0:00:16\n",
      "   ------------------ --------------------- 57.8/124.9 MB 4.4 MB/s eta 0:00:16\n",
      "   ------------------ --------------------- 58.0/124.9 MB 4.4 MB/s eta 0:00:16\n",
      "   ------------------ --------------------- 58.2/124.9 MB 4.3 MB/s eta 0:00:16\n",
      "   ------------------ --------------------- 58.4/124.9 MB 4.3 MB/s eta 0:00:16\n",
      "   ------------------ --------------------- 58.6/124.9 MB 4.3 MB/s eta 0:00:16\n",
      "   ------------------ --------------------- 58.7/124.9 MB 4.2 MB/s eta 0:00:16\n",
      "   ------------------ --------------------- 58.8/124.9 MB 4.2 MB/s eta 0:00:16\n",
      "   ------------------ --------------------- 59.1/124.9 MB 4.1 MB/s eta 0:00:16\n",
      "   ------------------- -------------------- 59.4/124.9 MB 4.1 MB/s eta 0:00:16\n",
      "   ------------------- -------------------- 59.6/124.9 MB 4.1 MB/s eta 0:00:16\n",
      "   ------------------- -------------------- 59.8/124.9 MB 4.0 MB/s eta 0:00:17\n",
      "   ------------------- -------------------- 60.0/124.9 MB 4.0 MB/s eta 0:00:17\n",
      "   ------------------- -------------------- 60.3/124.9 MB 4.1 MB/s eta 0:00:16\n",
      "   ------------------- -------------------- 60.5/124.9 MB 4.1 MB/s eta 0:00:16\n",
      "   ------------------- -------------------- 60.7/124.9 MB 4.0 MB/s eta 0:00:16\n",
      "   ------------------- -------------------- 60.9/124.9 MB 4.0 MB/s eta 0:00:17\n",
      "   ------------------- -------------------- 61.1/124.9 MB 4.0 MB/s eta 0:00:16\n",
      "   ------------------- -------------------- 61.4/124.9 MB 4.0 MB/s eta 0:00:16\n",
      "   ------------------- -------------------- 61.5/124.9 MB 4.0 MB/s eta 0:00:16\n",
      "   ------------------- -------------------- 61.7/124.9 MB 4.0 MB/s eta 0:00:16\n",
      "   ------------------- -------------------- 61.9/124.9 MB 3.9 MB/s eta 0:00:16\n",
      "   ------------------- -------------------- 61.9/124.9 MB 3.9 MB/s eta 0:00:16\n",
      "   ------------------- -------------------- 61.9/124.9 MB 3.9 MB/s eta 0:00:16\n",
      "   ------------------- -------------------- 61.9/124.9 MB 3.9 MB/s eta 0:00:16\n",
      "   ------------------- -------------------- 61.9/124.9 MB 3.9 MB/s eta 0:00:16\n",
      "   ------------------- -------------------- 62.1/124.9 MB 3.7 MB/s eta 0:00:17\n",
      "   ------------------- -------------------- 62.1/124.9 MB 3.7 MB/s eta 0:00:18\n",
      "   ------------------- -------------------- 62.2/124.9 MB 3.6 MB/s eta 0:00:18\n",
      "   -------------------- ------------------- 62.5/124.9 MB 3.6 MB/s eta 0:00:18\n",
      "   -------------------- ------------------- 62.6/124.9 MB 3.6 MB/s eta 0:00:18\n",
      "   -------------------- ------------------- 62.8/124.9 MB 3.6 MB/s eta 0:00:18\n",
      "   -------------------- ------------------- 63.0/124.9 MB 3.6 MB/s eta 0:00:18\n",
      "   -------------------- ------------------- 63.1/124.9 MB 3.6 MB/s eta 0:00:18\n",
      "   -------------------- ------------------- 63.3/124.9 MB 3.6 MB/s eta 0:00:18\n",
      "   -------------------- ------------------- 63.5/124.9 MB 3.6 MB/s eta 0:00:18\n",
      "   -------------------- ------------------- 63.7/124.9 MB 3.6 MB/s eta 0:00:18\n",
      "   -------------------- ------------------- 63.9/124.9 MB 3.5 MB/s eta 0:00:18\n",
      "   -------------------- ------------------- 64.1/124.9 MB 3.6 MB/s eta 0:00:17\n",
      "   -------------------- ------------------- 64.3/124.9 MB 3.6 MB/s eta 0:00:17\n",
      "   -------------------- ------------------- 64.4/124.9 MB 3.6 MB/s eta 0:00:17\n",
      "   -------------------- ------------------- 64.6/124.9 MB 3.6 MB/s eta 0:00:17\n",
      "   -------------------- ------------------- 64.8/124.9 MB 3.6 MB/s eta 0:00:17\n",
      "   -------------------- ------------------- 65.1/124.9 MB 3.9 MB/s eta 0:00:16\n",
      "   -------------------- ------------------- 65.2/124.9 MB 3.9 MB/s eta 0:00:16\n",
      "   -------------------- ------------------- 65.5/124.9 MB 3.9 MB/s eta 0:00:16\n",
      "   --------------------- ------------------ 65.7/124.9 MB 4.0 MB/s eta 0:00:15\n",
      "   --------------------- ------------------ 65.9/124.9 MB 4.0 MB/s eta 0:00:15\n",
      "   --------------------- ------------------ 66.1/124.9 MB 4.0 MB/s eta 0:00:15\n",
      "   --------------------- ------------------ 66.3/124.9 MB 4.0 MB/s eta 0:00:15\n",
      "   --------------------- ------------------ 66.6/124.9 MB 4.0 MB/s eta 0:00:15\n",
      "   --------------------- ------------------ 66.8/124.9 MB 4.0 MB/s eta 0:00:15\n",
      "   --------------------- ------------------ 67.0/124.9 MB 4.0 MB/s eta 0:00:15\n",
      "   --------------------- ------------------ 67.2/124.9 MB 4.0 MB/s eta 0:00:15\n",
      "   --------------------- ------------------ 67.4/124.9 MB 4.0 MB/s eta 0:00:15\n",
      "   --------------------- ------------------ 67.7/124.9 MB 4.0 MB/s eta 0:00:15\n",
      "   --------------------- ------------------ 67.8/124.9 MB 4.0 MB/s eta 0:00:15\n",
      "   --------------------- ------------------ 68.1/124.9 MB 4.0 MB/s eta 0:00:15\n",
      "   --------------------- ------------------ 68.4/124.9 MB 4.0 MB/s eta 0:00:14\n",
      "   --------------------- ------------------ 68.6/124.9 MB 4.0 MB/s eta 0:00:14\n",
      "   ---------------------- ----------------- 68.8/124.9 MB 4.1 MB/s eta 0:00:14\n",
      "   ---------------------- ----------------- 68.9/124.9 MB 4.1 MB/s eta 0:00:14\n",
      "   ---------------------- ----------------- 69.1/124.9 MB 4.1 MB/s eta 0:00:14\n",
      "   ---------------------- ----------------- 69.3/124.9 MB 4.1 MB/s eta 0:00:14\n",
      "   ---------------------- ----------------- 69.5/124.9 MB 4.1 MB/s eta 0:00:14\n",
      "   ---------------------- ----------------- 69.7/124.9 MB 4.1 MB/s eta 0:00:14\n",
      "   ---------------------- ----------------- 70.0/124.9 MB 4.1 MB/s eta 0:00:14\n",
      "   ---------------------- ----------------- 70.2/124.9 MB 4.1 MB/s eta 0:00:14\n",
      "   ---------------------- ----------------- 70.5/124.9 MB 4.1 MB/s eta 0:00:14\n",
      "   ---------------------- ----------------- 70.7/124.9 MB 4.1 MB/s eta 0:00:14\n",
      "   ---------------------- ----------------- 71.0/124.9 MB 4.1 MB/s eta 0:00:14\n",
      "   ---------------------- ----------------- 71.3/124.9 MB 4.2 MB/s eta 0:00:13\n",
      "   ---------------------- ----------------- 71.5/124.9 MB 4.2 MB/s eta 0:00:13\n",
      "   ---------------------- ----------------- 71.7/124.9 MB 4.2 MB/s eta 0:00:13\n",
      "   ----------------------- ---------------- 71.9/124.9 MB 4.2 MB/s eta 0:00:13\n",
      "   ----------------------- ---------------- 72.1/124.9 MB 4.2 MB/s eta 0:00:13\n",
      "   ----------------------- ---------------- 72.4/124.9 MB 4.6 MB/s eta 0:00:12\n",
      "   ----------------------- ---------------- 72.6/124.9 MB 4.7 MB/s eta 0:00:12\n",
      "   ----------------------- ---------------- 72.9/124.9 MB 4.6 MB/s eta 0:00:12\n",
      "   ----------------------- ---------------- 73.0/124.9 MB 4.7 MB/s eta 0:00:12\n",
      "   ----------------------- ---------------- 73.2/124.9 MB 4.6 MB/s eta 0:00:12\n",
      "   ----------------------- ---------------- 73.5/124.9 MB 4.7 MB/s eta 0:00:11\n",
      "   ----------------------- ---------------- 73.7/124.9 MB 4.7 MB/s eta 0:00:11\n",
      "   ----------------------- ---------------- 74.0/124.9 MB 4.7 MB/s eta 0:00:11\n",
      "   ----------------------- ---------------- 74.3/124.9 MB 4.7 MB/s eta 0:00:11\n",
      "   ----------------------- ---------------- 74.4/124.9 MB 4.7 MB/s eta 0:00:11\n",
      "   ----------------------- ---------------- 74.7/124.9 MB 4.8 MB/s eta 0:00:11\n",
      "   ------------------------ --------------- 75.0/124.9 MB 4.8 MB/s eta 0:00:11\n",
      "   ------------------------ --------------- 75.1/124.9 MB 4.8 MB/s eta 0:00:11\n",
      "   ------------------------ --------------- 75.3/124.9 MB 4.8 MB/s eta 0:00:11\n",
      "   ------------------------ --------------- 75.6/124.9 MB 4.7 MB/s eta 0:00:11\n",
      "   ------------------------ --------------- 75.9/124.9 MB 4.8 MB/s eta 0:00:11\n",
      "   ------------------------ --------------- 76.1/124.9 MB 4.8 MB/s eta 0:00:11\n",
      "   ------------------------ --------------- 76.2/124.9 MB 4.8 MB/s eta 0:00:11\n",
      "   ------------------------ --------------- 76.5/124.9 MB 4.8 MB/s eta 0:00:10\n",
      "   ------------------------ --------------- 76.6/124.9 MB 4.8 MB/s eta 0:00:11\n",
      "   ------------------------ --------------- 76.9/124.9 MB 4.8 MB/s eta 0:00:10\n",
      "   ------------------------ --------------- 77.1/124.9 MB 4.9 MB/s eta 0:00:10\n",
      "   ------------------------ --------------- 77.4/124.9 MB 4.9 MB/s eta 0:00:10\n",
      "   ------------------------ --------------- 77.6/124.9 MB 4.9 MB/s eta 0:00:10\n",
      "   ------------------------ --------------- 77.9/124.9 MB 4.9 MB/s eta 0:00:10\n",
      "   ------------------------- -------------- 78.1/124.9 MB 4.9 MB/s eta 0:00:10\n",
      "   ------------------------- -------------- 78.4/124.9 MB 4.9 MB/s eta 0:00:10\n",
      "   ------------------------- -------------- 78.4/124.9 MB 4.8 MB/s eta 0:00:10\n",
      "   ------------------------- -------------- 78.7/124.9 MB 4.8 MB/s eta 0:00:10\n",
      "   ------------------------- -------------- 78.9/124.9 MB 4.9 MB/s eta 0:00:10\n",
      "   ------------------------- -------------- 79.1/124.9 MB 4.9 MB/s eta 0:00:10\n",
      "   ------------------------- -------------- 79.4/124.9 MB 5.0 MB/s eta 0:00:10\n",
      "   ------------------------- -------------- 79.7/124.9 MB 5.1 MB/s eta 0:00:09\n",
      "   ------------------------- -------------- 80.0/124.9 MB 5.0 MB/s eta 0:00:09\n",
      "   ------------------------- -------------- 80.0/124.9 MB 5.0 MB/s eta 0:00:09\n",
      "   ------------------------- -------------- 80.2/124.9 MB 4.9 MB/s eta 0:00:10\n",
      "   ------------------------- -------------- 80.6/124.9 MB 4.8 MB/s eta 0:00:10\n",
      "   ------------------------- -------------- 80.8/124.9 MB 4.9 MB/s eta 0:00:10\n",
      "   ------------------------- -------------- 81.0/124.9 MB 4.9 MB/s eta 0:00:09\n",
      "   -------------------------- ------------- 81.3/124.9 MB 4.9 MB/s eta 0:00:09\n",
      "   -------------------------- ------------- 81.6/124.9 MB 4.9 MB/s eta 0:00:09\n",
      "   -------------------------- ------------- 81.7/124.9 MB 4.8 MB/s eta 0:00:09\n",
      "   -------------------------- ------------- 82.0/124.9 MB 4.9 MB/s eta 0:00:09\n",
      "   -------------------------- ------------- 82.4/124.9 MB 5.0 MB/s eta 0:00:09\n",
      "   -------------------------- ------------- 82.7/124.9 MB 5.0 MB/s eta 0:00:09\n",
      "   -------------------------- ------------- 82.9/124.9 MB 4.9 MB/s eta 0:00:09\n",
      "   -------------------------- ------------- 83.1/124.9 MB 5.0 MB/s eta 0:00:09\n",
      "   -------------------------- ------------- 83.4/124.9 MB 5.0 MB/s eta 0:00:09\n",
      "   -------------------------- ------------- 83.5/124.9 MB 5.0 MB/s eta 0:00:09\n",
      "   -------------------------- ------------- 83.8/124.9 MB 5.0 MB/s eta 0:00:09\n",
      "   -------------------------- ------------- 84.1/124.9 MB 5.0 MB/s eta 0:00:09\n",
      "   --------------------------- ------------ 84.3/124.9 MB 5.1 MB/s eta 0:00:08\n",
      "   --------------------------- ------------ 84.7/124.9 MB 5.1 MB/s eta 0:00:08\n",
      "   --------------------------- ------------ 85.0/124.9 MB 5.2 MB/s eta 0:00:08\n",
      "   --------------------------- ------------ 85.0/124.9 MB 5.2 MB/s eta 0:00:08\n",
      "   --------------------------- ------------ 85.0/124.9 MB 5.0 MB/s eta 0:00:08\n",
      "   --------------------------- ------------ 85.3/124.9 MB 4.9 MB/s eta 0:00:09\n",
      "   --------------------------- ------------ 85.4/124.9 MB 5.0 MB/s eta 0:00:08\n",
      "   --------------------------- ------------ 85.7/124.9 MB 5.0 MB/s eta 0:00:08\n",
      "   --------------------------- ------------ 85.9/124.9 MB 5.0 MB/s eta 0:00:08\n",
      "   --------------------------- ------------ 86.0/124.9 MB 5.0 MB/s eta 0:00:08\n",
      "   --------------------------- ------------ 86.2/124.9 MB 4.9 MB/s eta 0:00:08\n",
      "   --------------------------- ------------ 86.4/124.9 MB 5.0 MB/s eta 0:00:08\n",
      "   --------------------------- ------------ 86.7/124.9 MB 5.0 MB/s eta 0:00:08\n",
      "   --------------------------- ------------ 86.9/124.9 MB 5.0 MB/s eta 0:00:08\n",
      "   --------------------------- ------------ 87.2/124.9 MB 5.0 MB/s eta 0:00:08\n",
      "   ---------------------------- ----------- 87.5/124.9 MB 5.0 MB/s eta 0:00:08\n",
      "   ---------------------------- ----------- 87.8/124.9 MB 5.1 MB/s eta 0:00:08\n",
      "   ---------------------------- ----------- 88.1/124.9 MB 5.1 MB/s eta 0:00:08\n",
      "   ---------------------------- ----------- 88.3/124.9 MB 5.1 MB/s eta 0:00:08\n",
      "   ---------------------------- ----------- 88.4/124.9 MB 5.0 MB/s eta 0:00:08\n",
      "   ---------------------------- ----------- 88.7/124.9 MB 5.1 MB/s eta 0:00:08\n",
      "   ---------------------------- ----------- 89.0/124.9 MB 5.1 MB/s eta 0:00:08\n",
      "   ---------------------------- ----------- 89.2/124.9 MB 5.1 MB/s eta 0:00:07\n",
      "   ---------------------------- ----------- 89.6/124.9 MB 5.1 MB/s eta 0:00:07\n",
      "   ---------------------------- ----------- 89.8/124.9 MB 5.1 MB/s eta 0:00:07\n",
      "   ---------------------------- ----------- 90.1/124.9 MB 5.1 MB/s eta 0:00:07\n",
      "   ---------------------------- ----------- 90.4/124.9 MB 5.2 MB/s eta 0:00:07\n",
      "   ----------------------------- ---------- 90.7/124.9 MB 5.2 MB/s eta 0:00:07\n",
      "   ----------------------------- ---------- 90.9/124.9 MB 5.3 MB/s eta 0:00:07\n",
      "   ----------------------------- ---------- 91.2/124.9 MB 5.3 MB/s eta 0:00:07\n",
      "   ----------------------------- ---------- 91.5/124.9 MB 5.3 MB/s eta 0:00:07\n",
      "   ----------------------------- ---------- 91.8/124.9 MB 5.3 MB/s eta 0:00:07\n",
      "   ----------------------------- ---------- 92.2/124.9 MB 5.4 MB/s eta 0:00:07\n",
      "   ----------------------------- ---------- 92.4/124.9 MB 5.4 MB/s eta 0:00:07\n",
      "   ----------------------------- ---------- 92.6/124.9 MB 5.3 MB/s eta 0:00:07\n",
      "   ----------------------------- ---------- 92.7/124.9 MB 5.4 MB/s eta 0:00:07\n",
      "   ----------------------------- ---------- 93.2/124.9 MB 5.4 MB/s eta 0:00:06\n",
      "   ----------------------------- ---------- 93.3/124.9 MB 5.3 MB/s eta 0:00:06\n",
      "   ----------------------------- ---------- 93.5/124.9 MB 5.2 MB/s eta 0:00:06\n",
      "   ------------------------------ --------- 93.7/124.9 MB 5.2 MB/s eta 0:00:06\n",
      "   ------------------------------ --------- 93.9/124.9 MB 5.2 MB/s eta 0:00:06\n",
      "   ------------------------------ --------- 94.1/124.9 MB 5.2 MB/s eta 0:00:06\n",
      "   ------------------------------ --------- 94.4/124.9 MB 5.1 MB/s eta 0:00:06\n",
      "   ------------------------------ --------- 94.6/124.9 MB 5.1 MB/s eta 0:00:06\n",
      "   ------------------------------ --------- 94.8/124.9 MB 5.0 MB/s eta 0:00:06\n",
      "   ------------------------------ --------- 94.9/124.9 MB 5.0 MB/s eta 0:00:06\n",
      "   ------------------------------ --------- 95.2/124.9 MB 5.1 MB/s eta 0:00:06\n",
      "   ------------------------------ --------- 95.4/124.9 MB 5.2 MB/s eta 0:00:06\n",
      "   ------------------------------ --------- 95.7/124.9 MB 5.2 MB/s eta 0:00:06\n",
      "   ------------------------------ --------- 95.9/124.9 MB 5.2 MB/s eta 0:00:06\n",
      "   ------------------------------ --------- 96.0/124.9 MB 5.2 MB/s eta 0:00:06\n",
      "   ------------------------------ --------- 96.3/124.9 MB 5.2 MB/s eta 0:00:06\n",
      "   ------------------------------ --------- 96.5/124.9 MB 5.2 MB/s eta 0:00:06\n",
      "   ------------------------------ --------- 96.8/124.9 MB 5.2 MB/s eta 0:00:06\n",
      "   ------------------------------- -------- 96.9/124.9 MB 5.2 MB/s eta 0:00:06\n",
      "   ------------------------------- -------- 97.1/124.9 MB 5.1 MB/s eta 0:00:06\n",
      "   ------------------------------- -------- 97.3/124.9 MB 5.2 MB/s eta 0:00:06\n",
      "   ------------------------------- -------- 97.6/124.9 MB 5.1 MB/s eta 0:00:06\n",
      "   ------------------------------- -------- 97.8/124.9 MB 5.0 MB/s eta 0:00:06\n",
      "   ------------------------------- -------- 98.1/124.9 MB 5.0 MB/s eta 0:00:06\n",
      "   ------------------------------- -------- 98.3/124.9 MB 5.1 MB/s eta 0:00:06\n",
      "   ------------------------------- -------- 98.6/124.9 MB 5.0 MB/s eta 0:00:06\n",
      "   ------------------------------- -------- 98.9/124.9 MB 5.2 MB/s eta 0:00:06\n",
      "   ------------------------------- -------- 99.1/124.9 MB 5.1 MB/s eta 0:00:06\n",
      "   ------------------------------- -------- 99.4/124.9 MB 5.2 MB/s eta 0:00:05\n",
      "   ------------------------------- -------- 99.5/124.9 MB 5.1 MB/s eta 0:00:06\n",
      "   ------------------------------- -------- 99.8/124.9 MB 5.1 MB/s eta 0:00:05\n",
      "   -------------------------------- ------- 100.0/124.9 MB 5.0 MB/s eta 0:00:05\n",
      "   -------------------------------- ------- 100.2/124.9 MB 5.0 MB/s eta 0:00:05\n",
      "   -------------------------------- ------- 100.6/124.9 MB 5.1 MB/s eta 0:00:05\n",
      "   -------------------------------- ------- 100.8/124.9 MB 5.1 MB/s eta 0:00:05\n",
      "   -------------------------------- ------- 101.1/124.9 MB 5.1 MB/s eta 0:00:05\n",
      "   -------------------------------- ------- 101.3/124.9 MB 5.0 MB/s eta 0:00:05\n",
      "   -------------------------------- ------- 101.5/124.9 MB 5.0 MB/s eta 0:00:05\n",
      "   -------------------------------- ------- 101.8/124.9 MB 5.0 MB/s eta 0:00:05\n",
      "   -------------------------------- ------- 102.1/124.9 MB 5.0 MB/s eta 0:00:05\n",
      "   -------------------------------- ------- 102.3/124.9 MB 5.0 MB/s eta 0:00:05\n",
      "   -------------------------------- ------- 102.6/124.9 MB 5.0 MB/s eta 0:00:05\n",
      "   -------------------------------- ------- 102.9/124.9 MB 5.0 MB/s eta 0:00:05\n",
      "   --------------------------------- ------ 103.1/124.9 MB 5.1 MB/s eta 0:00:05\n",
      "   --------------------------------- ------ 103.3/124.9 MB 5.0 MB/s eta 0:00:05\n",
      "   --------------------------------- ------ 103.5/124.9 MB 5.1 MB/s eta 0:00:05\n",
      "   --------------------------------- ------ 103.8/124.9 MB 5.1 MB/s eta 0:00:05\n",
      "   --------------------------------- ------ 104.0/124.9 MB 5.2 MB/s eta 0:00:05\n",
      "   --------------------------------- ------ 104.2/124.9 MB 5.2 MB/s eta 0:00:04\n",
      "   --------------------------------- ------ 104.5/124.9 MB 5.2 MB/s eta 0:00:04\n",
      "   --------------------------------- ------ 104.8/124.9 MB 5.2 MB/s eta 0:00:04\n",
      "   --------------------------------- ------ 105.0/124.9 MB 5.2 MB/s eta 0:00:04\n",
      "   --------------------------------- ------ 105.2/124.9 MB 5.3 MB/s eta 0:00:04\n",
      "   --------------------------------- ------ 105.4/124.9 MB 5.3 MB/s eta 0:00:04\n",
      "   --------------------------------- ------ 105.7/124.9 MB 5.3 MB/s eta 0:00:04\n",
      "   --------------------------------- ------ 106.0/124.9 MB 5.4 MB/s eta 0:00:04\n",
      "   --------------------------------- ------ 106.2/124.9 MB 5.4 MB/s eta 0:00:04\n",
      "   ---------------------------------- ----- 106.4/124.9 MB 5.5 MB/s eta 0:00:04\n",
      "   ---------------------------------- ----- 106.7/124.9 MB 5.5 MB/s eta 0:00:04\n",
      "   ---------------------------------- ----- 106.9/124.9 MB 5.5 MB/s eta 0:00:04\n",
      "   ---------------------------------- ----- 107.2/124.9 MB 5.5 MB/s eta 0:00:04\n",
      "   ---------------------------------- ----- 107.5/124.9 MB 5.5 MB/s eta 0:00:04\n",
      "   ---------------------------------- ----- 107.8/124.9 MB 5.6 MB/s eta 0:00:04\n",
      "   ---------------------------------- ----- 108.0/124.9 MB 5.5 MB/s eta 0:00:04\n",
      "   ---------------------------------- ----- 108.1/124.9 MB 5.6 MB/s eta 0:00:03\n",
      "   ---------------------------------- ----- 108.2/124.9 MB 5.5 MB/s eta 0:00:04\n",
      "   ---------------------------------- ----- 108.5/124.9 MB 5.5 MB/s eta 0:00:03\n",
      "   ---------------------------------- ----- 108.5/124.9 MB 5.5 MB/s eta 0:00:03\n",
      "   ---------------------------------- ----- 108.8/124.9 MB 5.4 MB/s eta 0:00:03\n",
      "   ---------------------------------- ----- 109.0/124.9 MB 5.4 MB/s eta 0:00:03\n",
      "   ----------------------------------- ---- 109.3/124.9 MB 5.4 MB/s eta 0:00:03\n",
      "   ----------------------------------- ---- 109.6/124.9 MB 5.4 MB/s eta 0:00:03\n",
      "   ----------------------------------- ---- 109.9/124.9 MB 5.4 MB/s eta 0:00:03\n",
      "   ----------------------------------- ---- 110.0/124.9 MB 5.4 MB/s eta 0:00:03\n",
      "   ----------------------------------- ---- 110.3/124.9 MB 5.4 MB/s eta 0:00:03\n",
      "   ----------------------------------- ---- 110.6/124.9 MB 5.4 MB/s eta 0:00:03\n",
      "   ----------------------------------- ---- 110.9/124.9 MB 5.5 MB/s eta 0:00:03\n",
      "   ----------------------------------- ---- 111.1/124.9 MB 5.4 MB/s eta 0:00:03\n",
      "   ----------------------------------- ---- 111.3/124.9 MB 5.4 MB/s eta 0:00:03\n",
      "   ----------------------------------- ---- 111.4/124.9 MB 5.4 MB/s eta 0:00:03\n",
      "   ----------------------------------- ---- 111.9/124.9 MB 5.4 MB/s eta 0:00:03\n",
      "   ----------------------------------- ---- 112.1/124.9 MB 5.4 MB/s eta 0:00:03\n",
      "   ----------------------------------- ---- 112.4/124.9 MB 5.4 MB/s eta 0:00:03\n",
      "   ------------------------------------ --- 112.7/124.9 MB 5.5 MB/s eta 0:00:03\n",
      "   ------------------------------------ --- 112.8/124.9 MB 5.4 MB/s eta 0:00:03\n",
      "   ------------------------------------ --- 113.1/124.9 MB 5.4 MB/s eta 0:00:03\n",
      "   ------------------------------------ --- 113.4/124.9 MB 5.4 MB/s eta 0:00:03\n",
      "   ------------------------------------ --- 113.7/124.9 MB 5.5 MB/s eta 0:00:03\n",
      "   ------------------------------------ --- 114.0/124.9 MB 5.5 MB/s eta 0:00:03\n",
      "   ------------------------------------ --- 114.2/124.9 MB 5.5 MB/s eta 0:00:02\n",
      "   ------------------------------------ --- 114.5/124.9 MB 5.5 MB/s eta 0:00:02\n",
      "   ------------------------------------ --- 114.8/124.9 MB 5.5 MB/s eta 0:00:02\n",
      "   ------------------------------------ --- 115.0/124.9 MB 5.4 MB/s eta 0:00:02\n",
      "   ------------------------------------ --- 115.3/124.9 MB 5.5 MB/s eta 0:00:02\n",
      "   ------------------------------------ --- 115.5/124.9 MB 5.5 MB/s eta 0:00:02\n",
      "   ------------------------------------- -- 115.8/124.9 MB 5.4 MB/s eta 0:00:02\n",
      "   ------------------------------------- -- 116.1/124.9 MB 5.5 MB/s eta 0:00:02\n",
      "   ------------------------------------- -- 116.4/124.9 MB 5.5 MB/s eta 0:00:02\n",
      "   ------------------------------------- -- 116.7/124.9 MB 5.5 MB/s eta 0:00:02\n",
      "   ------------------------------------- -- 116.9/124.9 MB 5.4 MB/s eta 0:00:02\n",
      "   ------------------------------------- -- 117.2/124.9 MB 5.4 MB/s eta 0:00:02\n",
      "   ------------------------------------- -- 117.4/124.9 MB 5.4 MB/s eta 0:00:02\n",
      "   ------------------------------------- -- 117.7/124.9 MB 5.4 MB/s eta 0:00:02\n",
      "   ------------------------------------- -- 118.1/124.9 MB 5.5 MB/s eta 0:00:02\n",
      "   ------------------------------------- -- 118.2/124.9 MB 5.5 MB/s eta 0:00:02\n",
      "   ------------------------------------- -- 118.5/124.9 MB 5.6 MB/s eta 0:00:02\n",
      "   -------------------------------------- - 118.8/124.9 MB 5.7 MB/s eta 0:00:02\n",
      "   -------------------------------------- - 119.1/124.9 MB 5.7 MB/s eta 0:00:02\n",
      "   -------------------------------------- - 119.4/124.9 MB 5.8 MB/s eta 0:00:01\n",
      "   -------------------------------------- - 119.6/124.9 MB 5.7 MB/s eta 0:00:01\n",
      "   -------------------------------------- - 119.9/124.9 MB 5.8 MB/s eta 0:00:01\n",
      "   -------------------------------------- - 120.2/124.9 MB 5.8 MB/s eta 0:00:01\n",
      "   -------------------------------------- - 120.4/124.9 MB 5.8 MB/s eta 0:00:01\n",
      "   -------------------------------------- - 120.7/124.9 MB 5.8 MB/s eta 0:00:01\n",
      "   -------------------------------------- - 121.0/124.9 MB 5.7 MB/s eta 0:00:01\n",
      "   -------------------------------------- - 121.3/124.9 MB 5.8 MB/s eta 0:00:01\n",
      "   -------------------------------------- - 121.6/124.9 MB 5.9 MB/s eta 0:00:01\n",
      "   ---------------------------------------  121.9/124.9 MB 5.8 MB/s eta 0:00:01\n",
      "   ---------------------------------------  122.2/124.9 MB 5.9 MB/s eta 0:00:01\n",
      "   ---------------------------------------  122.4/124.9 MB 5.9 MB/s eta 0:00:01\n",
      "   ---------------------------------------  122.7/124.9 MB 5.9 MB/s eta 0:00:01\n",
      "   ---------------------------------------  122.8/124.9 MB 5.8 MB/s eta 0:00:01\n",
      "   ---------------------------------------  123.1/124.9 MB 5.9 MB/s eta 0:00:01\n",
      "   ---------------------------------------  123.2/124.9 MB 5.8 MB/s eta 0:00:01\n",
      "   ---------------------------------------  123.5/124.9 MB 5.8 MB/s eta 0:00:01\n",
      "   ---------------------------------------  123.8/124.9 MB 5.8 MB/s eta 0:00:01\n",
      "   ---------------------------------------  124.0/124.9 MB 5.8 MB/s eta 0:00:01\n",
      "   ---------------------------------------  124.3/124.9 MB 5.8 MB/s eta 0:00:01\n",
      "   ---------------------------------------  124.6/124.9 MB 5.8 MB/s eta 0:00:01\n",
      "   ---------------------------------------  124.9/124.9 MB 5.8 MB/s eta 0:00:01\n",
      "   ---------------------------------------  124.9/124.9 MB 5.8 MB/s eta 0:00:01\n",
      "   ---------------------------------------  124.9/124.9 MB 5.8 MB/s eta 0:00:01\n",
      "   ---------------------------------------  124.9/124.9 MB 5.8 MB/s eta 0:00:01\n",
      "   ---------------------------------------  124.9/124.9 MB 5.8 MB/s eta 0:00:01\n",
      "   ---------------------------------------  124.9/124.9 MB 5.8 MB/s eta 0:00:01\n",
      "   ---------------------------------------  124.9/124.9 MB 5.8 MB/s eta 0:00:01\n",
      "   ---------------------------------------- 124.9/124.9 MB 5.0 MB/s eta 0:00:00\n",
      "Installing collected packages: xgboost\n",
      "Successfully installed xgboost-2.1.2\n",
      "Note: you may need to restart the kernel to use updated packages.\n"
     ]
    }
   ],
   "source": [
    "pip install xgboost"
   ]
  },
  {
   "cell_type": "code",
   "execution_count": 21,
   "id": "6cf7300e-6706-41d7-86ad-b593f45d4b31",
   "metadata": {},
   "outputs": [],
   "source": [
    "from sklearn.linear_model import LogisticRegression\n",
    "from sklearn.svm import SVC\n",
    "from sklearn.naive_bayes import MultinomialNB\n",
    "from sklearn.tree import DecisionTreeClassifier\n",
    "from sklearn.neighbors import KNeighborsClassifier\n",
    "from sklearn.ensemble import RandomForestClassifier\n",
    "from sklearn.ensemble import AdaBoostClassifier\n",
    "from sklearn.ensemble import BaggingClassifier\n",
    "from sklearn.ensemble import ExtraTreesClassifier\n",
    "from sklearn.ensemble import GradientBoostingClassifier\n",
    "from xgboost import XGBClassifier\n"
   ]
  },
  {
   "cell_type": "code",
   "execution_count": 19,
   "id": "019b7182-b46d-4518-8723-4b4ce71dde1c",
   "metadata": {},
   "outputs": [
    {
     "ename": "NameError",
     "evalue": "name 'SVC' is not defined",
     "output_type": "error",
     "traceback": [
      "\u001b[1;31m---------------------------------------------------------------------------\u001b[0m",
      "\u001b[1;31mNameError\u001b[0m                                 Traceback (most recent call last)",
      "Cell \u001b[1;32mIn[19], line 1\u001b[0m\n\u001b[1;32m----> 1\u001b[0m svc \u001b[38;5;241m=\u001b[39m SVC(kernel\u001b[38;5;241m=\u001b[39m\u001b[38;5;124m'\u001b[39m\u001b[38;5;124msigmoid\u001b[39m\u001b[38;5;124m'\u001b[39m, gamma\u001b[38;5;241m=\u001b[39m\u001b[38;5;241m1.0\u001b[39m)  \u001b[38;5;66;03m# Corrected 'sigmod' to 'sigmoid'\u001b[39;00m\n\u001b[0;32m      2\u001b[0m knc \u001b[38;5;241m=\u001b[39m KNeighborsClassifier()  \n\u001b[0;32m      3\u001b[0m mnb \u001b[38;5;241m=\u001b[39m MultinomialNB()  \n",
      "\u001b[1;31mNameError\u001b[0m: name 'SVC' is not defined"
     ]
    }
   ],
   "source": [
    "svc = SVC(kernel='sigmoid', gamma=1.0)  # Corrected 'sigmod' to 'sigmoid'\n",
    "knc = KNeighborsClassifier()  \n",
    "mnb = MultinomialNB()  \n",
    "dtc = DecisionTreeClassifier(max_depth=5)  \n",
    "lrc = LogisticRegression(solver='liblinear', penalty='l1')  \n",
    "rfc = RandomForestClassifier(n_estimators=50, random_state=2)  \n",
    "abc = AdaBoostClassifier(n_estimators=50, random_state=2)  \n",
    "bc = BaggingClassifier(n_estimators=50, random_state=2)  \n",
    "etc = ExtraTreesClassifier(n_estimators=50, random_state=2)  \n",
    "gbdt = GradientBoostingClassifier(n_estimators=50, random_state=2)  # Corrected variable name\n",
    "xgb = XGBClassifier(n_estimators=50, random_state=2)\n"
   ]
  },
  {
   "cell_type": "code",
   "execution_count": 17,
   "id": "73900c9e-fe80-48fd-af94-4a9f922f6b71",
   "metadata": {},
   "outputs": [
    {
     "ename": "NameError",
     "evalue": "name 'svc' is not defined",
     "output_type": "error",
     "traceback": [
      "\u001b[1;31m---------------------------------------------------------------------------\u001b[0m",
      "\u001b[1;31mNameError\u001b[0m                                 Traceback (most recent call last)",
      "Cell \u001b[1;32mIn[17], line 2\u001b[0m\n\u001b[0;32m      1\u001b[0m clfs \u001b[38;5;241m=\u001b[39m {\n\u001b[1;32m----> 2\u001b[0m     \u001b[38;5;124m'\u001b[39m\u001b[38;5;124mSVC\u001b[39m\u001b[38;5;124m'\u001b[39m: svc,\n\u001b[0;32m      3\u001b[0m     \u001b[38;5;124m'\u001b[39m\u001b[38;5;124mKN\u001b[39m\u001b[38;5;124m'\u001b[39m: knc,\n\u001b[0;32m      4\u001b[0m     \u001b[38;5;124m'\u001b[39m\u001b[38;5;124mNB\u001b[39m\u001b[38;5;124m'\u001b[39m: mnb,\n\u001b[0;32m      5\u001b[0m     \u001b[38;5;124m'\u001b[39m\u001b[38;5;124mDT\u001b[39m\u001b[38;5;124m'\u001b[39m: dtc,\n\u001b[0;32m      6\u001b[0m     \u001b[38;5;124m'\u001b[39m\u001b[38;5;124mLR\u001b[39m\u001b[38;5;124m'\u001b[39m: lrc,\n\u001b[0;32m      7\u001b[0m     \u001b[38;5;124m'\u001b[39m\u001b[38;5;124mRF\u001b[39m\u001b[38;5;124m'\u001b[39m: rfc,\n\u001b[0;32m      8\u001b[0m     \u001b[38;5;124m'\u001b[39m\u001b[38;5;124mAdaBoost\u001b[39m\u001b[38;5;124m'\u001b[39m: abc,\n\u001b[0;32m      9\u001b[0m     \u001b[38;5;124m'\u001b[39m\u001b[38;5;124mBgc\u001b[39m\u001b[38;5;124m'\u001b[39m: bc,\n\u001b[0;32m     10\u001b[0m     \u001b[38;5;124m'\u001b[39m\u001b[38;5;124mETC\u001b[39m\u001b[38;5;124m'\u001b[39m: etc,\n\u001b[0;32m     11\u001b[0m     \u001b[38;5;124m'\u001b[39m\u001b[38;5;124mGBDT\u001b[39m\u001b[38;5;124m'\u001b[39m: gbdt,  \u001b[38;5;66;03m# Corrected to match the variable name\u001b[39;00m\n\u001b[0;32m     12\u001b[0m     \u001b[38;5;124m'\u001b[39m\u001b[38;5;124mxgb\u001b[39m\u001b[38;5;124m'\u001b[39m: xgb\n\u001b[0;32m     13\u001b[0m }\n",
      "\u001b[1;31mNameError\u001b[0m: name 'svc' is not defined"
     ]
    }
   ],
   "source": [
    "clfs = {\n",
    "    'SVC': svc,\n",
    "    'KN': knc,\n",
    "    'NB': mnb,\n",
    "    'DT': dtc,\n",
    "    'LR': lrc,\n",
    "    'RF': rfc,\n",
    "    'AdaBoost': abc,\n",
    "    'Bgc': bc,\n",
    "    'ETC': etc,\n",
    "    'GBDT': gbdt,  # Corrected to match the variable name\n",
    "    'xgb': xgb\n",
    "}"
   ]
  },
  {
   "cell_type": "code",
   "execution_count": null,
   "id": "c24d8996-035e-4976-8710-043a08ff9177",
   "metadata": {},
   "outputs": [],
   "source": [
    "from sklearn.metrics import accuracy_score, precision_score"
   ]
  },
  {
   "cell_type": "code",
   "execution_count": 15,
   "id": "27798115-435c-4e4d-a3f2-fcdb1e1f5ca1",
   "metadata": {},
   "outputs": [],
   "source": [
    "def train_classifier(clf, X_train, y_train, X_test, y_test):\n",
    "    # Fit the classifier to the training data\n",
    "    clf.fit(X_train, y_train)\n",
    "    \n",
    "    # Predict on the test set\n",
    "    y_pred = clf.predict(X_test)\n",
    "    \n",
    "    # Calculate accuracy and precision\n",
    "    accuracy = accuracy_score(y_test, y_pred)\n",
    "    precision = precision_score(y_test, y_pred, average='weighted')  # Use 'macro' or 'micro' depending on your needs\n",
    "\n",
    "    return accuracy, precision "
   ]
  },
  {
   "cell_type": "code",
   "execution_count": 11,
   "id": "00da75ef-b05c-4146-80c5-de6cabbe9920",
   "metadata": {},
   "outputs": [
    {
     "ename": "NameError",
     "evalue": "name 'train_classifier' is not defined",
     "output_type": "error",
     "traceback": [
      "\u001b[1;31m---------------------------------------------------------------------------\u001b[0m",
      "\u001b[1;31mNameError\u001b[0m                                 Traceback (most recent call last)",
      "Cell \u001b[1;32mIn[11], line 1\u001b[0m\n\u001b[1;32m----> 1\u001b[0m train_classifier(svc, X_train, y_train, X_test, y_test)\n",
      "\u001b[1;31mNameError\u001b[0m: name 'train_classifier' is not defined"
     ]
    }
   ],
   "source": [
    "train_classifier(svc, X_train, y_train, X_test, y_test)\n",
    "\n"
   ]
  },
  {
   "cell_type": "code",
   "execution_count": 7,
   "id": "f5587aae-8eeb-4610-8e97-bdf5ca92ddaf",
   "metadata": {},
   "outputs": [
    {
     "ename": "NameError",
     "evalue": "name 'clfs' is not defined",
     "output_type": "error",
     "traceback": [
      "\u001b[1;31m---------------------------------------------------------------------------\u001b[0m",
      "\u001b[1;31mNameError\u001b[0m                                 Traceback (most recent call last)",
      "Cell \u001b[1;32mIn[7], line 4\u001b[0m\n\u001b[0;32m      1\u001b[0m accuracy_scores \u001b[38;5;241m=\u001b[39m []\n\u001b[0;32m      2\u001b[0m precision_scores \u001b[38;5;241m=\u001b[39m []\n\u001b[1;32m----> 4\u001b[0m \u001b[38;5;28;01mfor\u001b[39;00m name, clf \u001b[38;5;129;01min\u001b[39;00m clfs\u001b[38;5;241m.\u001b[39mitems():\n\u001b[0;32m      5\u001b[0m     current_accuracy, current_precision \u001b[38;5;241m=\u001b[39m train_classifier(clf, X_train, y_train, X_test, y_test)\n\u001b[0;32m      6\u001b[0m     \u001b[38;5;28mprint\u001b[39m(\u001b[38;5;124m\"\u001b[39m\u001b[38;5;124mFor\u001b[39m\u001b[38;5;124m\"\u001b[39m, name)\n",
      "\u001b[1;31mNameError\u001b[0m: name 'clfs' is not defined"
     ]
    }
   ],
   "source": [
    "accuracy_scores = []\n",
    "precision_scores = []\n",
    "\n",
    "for name, clf in clfs.items():\n",
    "    current_accuracy, current_precision = train_classifier(clf, X_train, y_train, X_test, y_test)\n",
    "    print(\"For\", name)\n",
    "    print(\"Accuracy -\", current_accuracy)\n",
    "    print(\"Precision -\", current_precision)\n",
    "    \n",
    "    # Append the results to the lists\n",
    "    accuracy_scores.append(current_accuracy) \n",
    "    precision_scores.append(current_precision) \n"
   ]
  },
  {
   "cell_type": "code",
   "execution_count": 5,
   "id": "0fd0df47-27b6-429f-87a0-f11fb7e4be66",
   "metadata": {},
   "outputs": [
    {
     "ename": "NameError",
     "evalue": "name 'pd' is not defined",
     "output_type": "error",
     "traceback": [
      "\u001b[1;31m---------------------------------------------------------------------------\u001b[0m",
      "\u001b[1;31mNameError\u001b[0m                                 Traceback (most recent call last)",
      "Cell \u001b[1;32mIn[5], line 1\u001b[0m\n\u001b[1;32m----> 1\u001b[0m performance_df \u001b[38;5;241m=\u001b[39m pd\u001b[38;5;241m.\u001b[39mDataFrame({\n\u001b[0;32m      2\u001b[0m     \u001b[38;5;124m'\u001b[39m\u001b[38;5;124mAlgorithm\u001b[39m\u001b[38;5;124m'\u001b[39m: clfs\u001b[38;5;241m.\u001b[39mkeys(),\n\u001b[0;32m      3\u001b[0m     \u001b[38;5;124m'\u001b[39m\u001b[38;5;124mAccuracy\u001b[39m\u001b[38;5;124m'\u001b[39m: accuracy_scores,\n\u001b[0;32m      4\u001b[0m     \u001b[38;5;124m'\u001b[39m\u001b[38;5;124mPrecision\u001b[39m\u001b[38;5;124m'\u001b[39m: precision_scores  \u001b[38;5;66;03m# Corrected from comma to colon\u001b[39;00m\n\u001b[0;32m      5\u001b[0m })\n",
      "\u001b[1;31mNameError\u001b[0m: name 'pd' is not defined"
     ]
    }
   ],
   "source": [
    "performance_df = pd.DataFrame({\n",
    "    'Algorithm': clfs.keys(),\n",
    "    'Accuracy': accuracy_scores,\n",
    "    'Precision': precision_scores  # Corrected from comma to colon\n",
    "})"
   ]
  },
  {
   "cell_type": "code",
   "execution_count": 11,
   "id": "9070d629-9223-4803-b4f2-1873d646a855",
   "metadata": {},
   "outputs": [
    {
     "ename": "NameError",
     "evalue": "name 'performance_df' is not defined",
     "output_type": "error",
     "traceback": [
      "\u001b[1;31m---------------------------------------------------------------------------\u001b[0m",
      "\u001b[1;31mNameError\u001b[0m                                 Traceback (most recent call last)",
      "Cell \u001b[1;32mIn[11], line 1\u001b[0m\n\u001b[1;32m----> 1\u001b[0m \u001b[38;5;28mprint\u001b[39m(performance_df)\n",
      "\u001b[1;31mNameError\u001b[0m: name 'performance_df' is not defined"
     ]
    }
   ],
   "source": [
    "print(performance_df)"
   ]
  },
  {
   "cell_type": "code",
   "execution_count": null,
   "id": "b527a80d-1a8e-4411-aa84-dd5a8e413c40",
   "metadata": {},
   "outputs": [],
   "source": []
  },
  {
   "cell_type": "code",
   "execution_count": null,
   "id": "c2ddcf15-f867-437c-9cdd-d5431615f49a",
   "metadata": {},
   "outputs": [],
   "source": []
  },
  {
   "cell_type": "code",
   "execution_count": null,
   "id": "bfb8efed-dadc-45e4-b8ae-ccc477248008",
   "metadata": {},
   "outputs": [],
   "source": []
  },
  {
   "cell_type": "code",
   "execution_count": null,
   "id": "f3f2faea-d1c8-4572-bf89-8a7e9f8738f8",
   "metadata": {},
   "outputs": [],
   "source": []
  },
  {
   "cell_type": "code",
   "execution_count": null,
   "id": "f0c1ecd7-f773-4cba-ab39-f7cf649aaa21",
   "metadata": {},
   "outputs": [],
   "source": []
  },
  {
   "cell_type": "code",
   "execution_count": null,
   "id": "58844784-0361-4573-83e9-de5bc2431ecd",
   "metadata": {},
   "outputs": [],
   "source": []
  },
  {
   "cell_type": "code",
   "execution_count": null,
   "id": "2b51a1df-01be-4e7d-a8e1-8cb777158ba1",
   "metadata": {},
   "outputs": [],
   "source": []
  }
 ],
 "metadata": {
  "kernelspec": {
   "display_name": "Python 3 (ipykernel)",
   "language": "python",
   "name": "python3"
  },
  "language_info": {
   "codemirror_mode": {
    "name": "ipython",
    "version": 3
   },
   "file_extension": ".py",
   "mimetype": "text/x-python",
   "name": "python",
   "nbconvert_exporter": "python",
   "pygments_lexer": "ipython3",
   "version": "3.12.4"
  }
 },
 "nbformat": 4,
 "nbformat_minor": 5
}
